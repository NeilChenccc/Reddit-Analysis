{
 "cells": [
  {
   "cell_type": "markdown",
   "id": "b2503e50-ff96-4b4a-9bb9-f56af35e38b4",
   "metadata": {},
   "source": [
    "# Reddit Project NLP Script\n",
    "### Reading the dataset"
   ]
  },
  {
   "cell_type": "code",
   "execution_count": 1,
   "id": "e273736f-fc9b-4555-8d36-9c0d3fc14f47",
   "metadata": {},
   "outputs": [],
   "source": [
    "import findspark\n",
    "findspark.init()"
   ]
  },
  {
   "cell_type": "code",
   "execution_count": 2,
   "id": "67daaad3-ad10-41ee-a970-ff39884a8e99",
   "metadata": {},
   "outputs": [],
   "source": [
    "import pyspark.sql.functions as f\n",
    "from pyspark.sql.functions import col, lit\n",
    "from pyspark.sql import SparkSession\n",
    "from pyspark import SparkContext"
   ]
  },
  {
   "cell_type": "code",
   "execution_count": 3,
   "id": "4e295328-85ca-400d-898e-28153007e0f2",
   "metadata": {},
   "outputs": [
    {
     "name": "stderr",
     "output_type": "stream",
     "text": [
      "Ivy Default Cache set to: /home/hadoop/.ivy2/cache\n",
      "The jars for the packages stored in: /home/hadoop/.ivy2/jars\n",
      ":: loading settings :: url = jar:file:/usr/lib/spark/jars/ivy-2.4.0.jar!/org/apache/ivy/core/settings/ivysettings.xml\n",
      "com.johnsnowlabs.nlp#spark-nlp_2.12 added as a dependency\n",
      ":: resolving dependencies :: org.apache.spark#spark-submit-parent-a4a25514-c6e1-460f-a9c9-f486a7516a31;1.0\n",
      "\tconfs: [default]\n",
      "\tfound com.johnsnowlabs.nlp#spark-nlp_2.12;3.4.2 in central\n",
      "\tfound com.typesafe#config;1.4.1 in central\n",
      "\tfound org.rocksdb#rocksdbjni;6.5.3 in central\n",
      "\tfound com.amazonaws#aws-java-sdk-bundle;1.11.603 in central\n",
      "\tfound com.github.universal-automata#liblevenshtein;3.0.0 in central\n",
      "\tfound com.google.code.findbugs#annotations;3.0.1 in central\n",
      "\tfound net.jcip#jcip-annotations;1.0 in central\n",
      "\tfound com.google.code.findbugs#jsr305;3.0.1 in central\n",
      "\tfound com.google.protobuf#protobuf-java-util;3.0.0-beta-3 in central\n",
      "\tfound com.google.protobuf#protobuf-java;3.0.0-beta-3 in central\n",
      "\tfound com.google.code.gson#gson;2.3 in central\n",
      "\tfound it.unimi.dsi#fastutil;7.0.12 in central\n",
      "\tfound org.projectlombok#lombok;1.16.8 in central\n",
      "\tfound org.slf4j#slf4j-api;1.7.21 in central\n",
      "\tfound com.navigamez#greex;1.0 in central\n",
      "\tfound dk.brics.automaton#automaton;1.11-8 in central\n",
      "\tfound org.json4s#json4s-ext_2.12;3.5.3 in central\n",
      "\tfound joda-time#joda-time;2.9.5 in central\n",
      "\tfound org.joda#joda-convert;1.8.1 in central\n",
      "\tfound com.johnsnowlabs.nlp#tensorflow-cpu_2.12;0.3.3 in central\n",
      "\tfound net.sf.trove4j#trove4j;3.0.3 in central\n",
      "downloading https://repo1.maven.org/maven2/com/johnsnowlabs/nlp/spark-nlp_2.12/3.4.2/spark-nlp_2.12-3.4.2.jar ...\n",
      "\t[SUCCESSFUL ] com.johnsnowlabs.nlp#spark-nlp_2.12;3.4.2!spark-nlp_2.12.jar (690ms)\n",
      "downloading https://repo1.maven.org/maven2/com/typesafe/config/1.4.1/config-1.4.1.jar ...\n",
      "\t[SUCCESSFUL ] com.typesafe#config;1.4.1!config.jar(bundle) (5ms)\n",
      "downloading https://repo1.maven.org/maven2/org/rocksdb/rocksdbjni/6.5.3/rocksdbjni-6.5.3.jar ...\n",
      "\t[SUCCESSFUL ] org.rocksdb#rocksdbjni;6.5.3!rocksdbjni.jar (200ms)\n",
      "downloading https://repo1.maven.org/maven2/com/amazonaws/aws-java-sdk-bundle/1.11.603/aws-java-sdk-bundle-1.11.603.jar ...\n",
      "\t[SUCCESSFUL ] com.amazonaws#aws-java-sdk-bundle;1.11.603!aws-java-sdk-bundle.jar (920ms)\n",
      "downloading https://repo1.maven.org/maven2/com/github/universal-automata/liblevenshtein/3.0.0/liblevenshtein-3.0.0.jar ...\n",
      "\t[SUCCESSFUL ] com.github.universal-automata#liblevenshtein;3.0.0!liblevenshtein.jar (3ms)\n",
      "downloading https://repo1.maven.org/maven2/com/navigamez/greex/1.0/greex-1.0.jar ...\n",
      "\t[SUCCESSFUL ] com.navigamez#greex;1.0!greex.jar (2ms)\n",
      "downloading https://repo1.maven.org/maven2/org/json4s/json4s-ext_2.12/3.5.3/json4s-ext_2.12-3.5.3.jar ...\n",
      "\t[SUCCESSFUL ] org.json4s#json4s-ext_2.12;3.5.3!json4s-ext_2.12.jar (3ms)\n",
      "downloading https://repo1.maven.org/maven2/com/johnsnowlabs/nlp/tensorflow-cpu_2.12/0.3.3/tensorflow-cpu_2.12-0.3.3.jar ...\n",
      "\t[SUCCESSFUL ] com.johnsnowlabs.nlp#tensorflow-cpu_2.12;0.3.3!tensorflow-cpu_2.12.jar (1018ms)\n",
      "downloading https://repo1.maven.org/maven2/net/sf/trove4j/trove4j/3.0.3/trove4j-3.0.3.jar ...\n",
      "\t[SUCCESSFUL ] net.sf.trove4j#trove4j;3.0.3!trove4j.jar (16ms)\n",
      "downloading https://repo1.maven.org/maven2/com/google/code/findbugs/annotations/3.0.1/annotations-3.0.1.jar ...\n",
      "\t[SUCCESSFUL ] com.google.code.findbugs#annotations;3.0.1!annotations.jar (2ms)\n",
      "downloading https://repo1.maven.org/maven2/com/google/protobuf/protobuf-java-util/3.0.0-beta-3/protobuf-java-util-3.0.0-beta-3.jar ...\n",
      "\t[SUCCESSFUL ] com.google.protobuf#protobuf-java-util;3.0.0-beta-3!protobuf-java-util.jar(bundle) (2ms)\n",
      "downloading https://repo1.maven.org/maven2/com/google/protobuf/protobuf-java/3.0.0-beta-3/protobuf-java-3.0.0-beta-3.jar ...\n",
      "\t[SUCCESSFUL ] com.google.protobuf#protobuf-java;3.0.0-beta-3!protobuf-java.jar(bundle) (9ms)\n",
      "downloading https://repo1.maven.org/maven2/it/unimi/dsi/fastutil/7.0.12/fastutil-7.0.12.jar ...\n",
      "\t[SUCCESSFUL ] it.unimi.dsi#fastutil;7.0.12!fastutil.jar (116ms)\n",
      "downloading https://repo1.maven.org/maven2/org/projectlombok/lombok/1.16.8/lombok-1.16.8.jar ...\n",
      "\t[SUCCESSFUL ] org.projectlombok#lombok;1.16.8!lombok.jar (11ms)\n",
      "downloading https://repo1.maven.org/maven2/org/slf4j/slf4j-api/1.7.21/slf4j-api-1.7.21.jar ...\n",
      "\t[SUCCESSFUL ] org.slf4j#slf4j-api;1.7.21!slf4j-api.jar (2ms)\n",
      "downloading https://repo1.maven.org/maven2/net/jcip/jcip-annotations/1.0/jcip-annotations-1.0.jar ...\n",
      "\t[SUCCESSFUL ] net.jcip#jcip-annotations;1.0!jcip-annotations.jar (2ms)\n",
      "downloading https://repo1.maven.org/maven2/com/google/code/findbugs/jsr305/3.0.1/jsr305-3.0.1.jar ...\n",
      "\t[SUCCESSFUL ] com.google.code.findbugs#jsr305;3.0.1!jsr305.jar (2ms)\n",
      "downloading https://repo1.maven.org/maven2/com/google/code/gson/gson/2.3/gson-2.3.jar ...\n",
      "\t[SUCCESSFUL ] com.google.code.gson#gson;2.3!gson.jar (4ms)\n",
      "downloading https://repo1.maven.org/maven2/dk/brics/automaton/automaton/1.11-8/automaton-1.11-8.jar ...\n",
      "\t[SUCCESSFUL ] dk.brics.automaton#automaton;1.11-8!automaton.jar (3ms)\n",
      "downloading https://repo1.maven.org/maven2/joda-time/joda-time/2.9.5/joda-time-2.9.5.jar ...\n",
      "\t[SUCCESSFUL ] joda-time#joda-time;2.9.5!joda-time.jar (6ms)\n",
      "downloading https://repo1.maven.org/maven2/org/joda/joda-convert/1.8.1/joda-convert-1.8.1.jar ...\n",
      "\t[SUCCESSFUL ] org.joda#joda-convert;1.8.1!joda-convert.jar (3ms)\n",
      ":: resolution report :: resolve 3291ms :: artifacts dl 3029ms\n",
      "\t:: modules in use:\n",
      "\tcom.amazonaws#aws-java-sdk-bundle;1.11.603 from central in [default]\n",
      "\tcom.github.universal-automata#liblevenshtein;3.0.0 from central in [default]\n",
      "\tcom.google.code.findbugs#annotations;3.0.1 from central in [default]\n",
      "\tcom.google.code.findbugs#jsr305;3.0.1 from central in [default]\n",
      "\tcom.google.code.gson#gson;2.3 from central in [default]\n",
      "\tcom.google.protobuf#protobuf-java;3.0.0-beta-3 from central in [default]\n",
      "\tcom.google.protobuf#protobuf-java-util;3.0.0-beta-3 from central in [default]\n",
      "\tcom.johnsnowlabs.nlp#spark-nlp_2.12;3.4.2 from central in [default]\n",
      "\tcom.johnsnowlabs.nlp#tensorflow-cpu_2.12;0.3.3 from central in [default]\n",
      "\tcom.navigamez#greex;1.0 from central in [default]\n",
      "\tcom.typesafe#config;1.4.1 from central in [default]\n",
      "\tdk.brics.automaton#automaton;1.11-8 from central in [default]\n",
      "\tit.unimi.dsi#fastutil;7.0.12 from central in [default]\n",
      "\tjoda-time#joda-time;2.9.5 from central in [default]\n",
      "\tnet.jcip#jcip-annotations;1.0 from central in [default]\n",
      "\tnet.sf.trove4j#trove4j;3.0.3 from central in [default]\n",
      "\torg.joda#joda-convert;1.8.1 from central in [default]\n",
      "\torg.json4s#json4s-ext_2.12;3.5.3 from central in [default]\n",
      "\torg.projectlombok#lombok;1.16.8 from central in [default]\n",
      "\torg.rocksdb#rocksdbjni;6.5.3 from central in [default]\n",
      "\torg.slf4j#slf4j-api;1.7.21 from central in [default]\n",
      "\t---------------------------------------------------------------------\n",
      "\t|                  |            modules            ||   artifacts   |\n",
      "\t|       conf       | number| search|dwnlded|evicted|| number|dwnlded|\n",
      "\t---------------------------------------------------------------------\n",
      "\t|      default     |   21  |   21  |   21  |   0   ||   21  |   21  |\n",
      "\t---------------------------------------------------------------------\n",
      "\n",
      ":: problems summary ::\n",
      ":::: ERRORS\n",
      "\tSERVER ERROR: Bad Gateway url=https://dl.bintray.com/spark-packages/maven/com/amazonaws/aws-java-sdk-pom/1.11.603/aws-java-sdk-pom-1.11.603.jar\n",
      "\n",
      "\tSERVER ERROR: Bad Gateway url=https://dl.bintray.com/spark-packages/maven/org/sonatype/oss/oss-parent/7/oss-parent-7.jar\n",
      "\n",
      "\tSERVER ERROR: Bad Gateway url=https://dl.bintray.com/spark-packages/maven/net/jcip/jcip-annotations/1.0/jcip-annotations-1.0-javadoc.jar\n",
      "\n",
      "\tSERVER ERROR: Bad Gateway url=https://dl.bintray.com/spark-packages/maven/com/google/google/1/google-1.jar\n",
      "\n",
      "\tSERVER ERROR: Bad Gateway url=https://dl.bintray.com/spark-packages/maven/com/google/protobuf/protobuf-parent/3.0.0-beta-3/protobuf-parent-3.0.0-beta-3.jar\n",
      "\n",
      "\tSERVER ERROR: Bad Gateway url=https://dl.bintray.com/spark-packages/maven/com/google/protobuf/protobuf-java-util/3.0.0-beta-3/protobuf-java-util-3.0.0-beta-3-sources.jar\n",
      "\n",
      "\tSERVER ERROR: Bad Gateway url=https://dl.bintray.com/spark-packages/maven/com/google/protobuf/protobuf-java-util/3.0.0-beta-3/protobuf-java-util-3.0.0-beta-3-src.jar\n",
      "\n",
      "\tSERVER ERROR: Bad Gateway url=https://dl.bintray.com/spark-packages/maven/com/google/protobuf/protobuf-java-util/3.0.0-beta-3/protobuf-java-util-3.0.0-beta-3-javadoc.jar\n",
      "\n",
      "\tSERVER ERROR: Bad Gateway url=https://dl.bintray.com/spark-packages/maven/com/google/protobuf/protobuf-java/3.0.0-beta-3/protobuf-java-3.0.0-beta-3-sources.jar\n",
      "\n",
      "\tSERVER ERROR: Bad Gateway url=https://dl.bintray.com/spark-packages/maven/com/google/protobuf/protobuf-java/3.0.0-beta-3/protobuf-java-3.0.0-beta-3-src.jar\n",
      "\n",
      "\tSERVER ERROR: Bad Gateway url=https://dl.bintray.com/spark-packages/maven/com/google/protobuf/protobuf-java/3.0.0-beta-3/protobuf-java-3.0.0-beta-3-javadoc.jar\n",
      "\n",
      "\tSERVER ERROR: Bad Gateway url=https://dl.bintray.com/spark-packages/maven/org/sonatype/oss/oss-parent/9/oss-parent-9.jar\n",
      "\n",
      "\tSERVER ERROR: Bad Gateway url=https://dl.bintray.com/spark-packages/maven/org/slf4j/slf4j-parent/1.7.21/slf4j-parent-1.7.21.jar\n",
      "\n",
      "\n",
      ":: USE VERBOSE OR DEBUG MESSAGE LEVEL FOR MORE DETAILS\n",
      ":: retrieving :: org.apache.spark#spark-submit-parent-a4a25514-c6e1-460f-a9c9-f486a7516a31\n",
      "\tconfs: [default]\n",
      "\t21 artifacts copied, 0 already retrieved (399905kB/276ms)\n",
      "Setting default log level to \"WARN\".\n",
      "To adjust logging level use sc.setLogLevel(newLevel). For SparkR, use setLogLevel(newLevel).\n",
      "22/04/16 02:03:45 WARN Client: Neither spark.yarn.jars nor spark.yarn.archive is set, falling back to uploading libraries under SPARK_HOME.\n",
      "22/04/16 02:03:50 WARN Client: Same path resource file:///home/hadoop/.ivy2/jars/com.johnsnowlabs.nlp_spark-nlp_2.12-3.4.2.jar added multiple times to distributed cache.\n",
      "22/04/16 02:03:50 WARN Client: Same path resource file:///home/hadoop/.ivy2/jars/com.typesafe_config-1.4.1.jar added multiple times to distributed cache.\n",
      "22/04/16 02:03:50 WARN Client: Same path resource file:///home/hadoop/.ivy2/jars/org.rocksdb_rocksdbjni-6.5.3.jar added multiple times to distributed cache.\n",
      "22/04/16 02:03:50 WARN Client: Same path resource file:///home/hadoop/.ivy2/jars/com.amazonaws_aws-java-sdk-bundle-1.11.603.jar added multiple times to distributed cache.\n",
      "22/04/16 02:03:50 WARN Client: Same path resource file:///home/hadoop/.ivy2/jars/com.github.universal-automata_liblevenshtein-3.0.0.jar added multiple times to distributed cache.\n",
      "22/04/16 02:03:50 WARN Client: Same path resource file:///home/hadoop/.ivy2/jars/com.navigamez_greex-1.0.jar added multiple times to distributed cache.\n",
      "22/04/16 02:03:50 WARN Client: Same path resource file:///home/hadoop/.ivy2/jars/org.json4s_json4s-ext_2.12-3.5.3.jar added multiple times to distributed cache.\n",
      "22/04/16 02:03:50 WARN Client: Same path resource file:///home/hadoop/.ivy2/jars/com.johnsnowlabs.nlp_tensorflow-cpu_2.12-0.3.3.jar added multiple times to distributed cache.\n",
      "22/04/16 02:03:50 WARN Client: Same path resource file:///home/hadoop/.ivy2/jars/net.sf.trove4j_trove4j-3.0.3.jar added multiple times to distributed cache.\n",
      "22/04/16 02:03:50 WARN Client: Same path resource file:///home/hadoop/.ivy2/jars/com.google.code.findbugs_annotations-3.0.1.jar added multiple times to distributed cache.\n",
      "22/04/16 02:03:50 WARN Client: Same path resource file:///home/hadoop/.ivy2/jars/com.google.protobuf_protobuf-java-util-3.0.0-beta-3.jar added multiple times to distributed cache.\n",
      "22/04/16 02:03:50 WARN Client: Same path resource file:///home/hadoop/.ivy2/jars/com.google.protobuf_protobuf-java-3.0.0-beta-3.jar added multiple times to distributed cache.\n",
      "22/04/16 02:03:50 WARN Client: Same path resource file:///home/hadoop/.ivy2/jars/it.unimi.dsi_fastutil-7.0.12.jar added multiple times to distributed cache.\n",
      "22/04/16 02:03:50 WARN Client: Same path resource file:///home/hadoop/.ivy2/jars/org.projectlombok_lombok-1.16.8.jar added multiple times to distributed cache.\n",
      "22/04/16 02:03:50 WARN Client: Same path resource file:///home/hadoop/.ivy2/jars/org.slf4j_slf4j-api-1.7.21.jar added multiple times to distributed cache.\n",
      "22/04/16 02:03:50 WARN Client: Same path resource file:///home/hadoop/.ivy2/jars/net.jcip_jcip-annotations-1.0.jar added multiple times to distributed cache.\n",
      "22/04/16 02:03:50 WARN Client: Same path resource file:///home/hadoop/.ivy2/jars/com.google.code.findbugs_jsr305-3.0.1.jar added multiple times to distributed cache.\n",
      "22/04/16 02:03:50 WARN Client: Same path resource file:///home/hadoop/.ivy2/jars/com.google.code.gson_gson-2.3.jar added multiple times to distributed cache.\n",
      "22/04/16 02:03:50 WARN Client: Same path resource file:///home/hadoop/.ivy2/jars/dk.brics.automaton_automaton-1.11-8.jar added multiple times to distributed cache.\n",
      "22/04/16 02:03:50 WARN Client: Same path resource file:///home/hadoop/.ivy2/jars/joda-time_joda-time-2.9.5.jar added multiple times to distributed cache.\n",
      "22/04/16 02:03:50 WARN Client: Same path resource file:///home/hadoop/.ivy2/jars/org.joda_joda-convert-1.8.1.jar added multiple times to distributed cache.\n",
      "22/04/16 02:03:58 WARN YarnSchedulerBackend$YarnSchedulerEndpoint: Attempted to request executors before the AM has registered!\n"
     ]
    }
   ],
   "source": [
    "spark = SparkSession.builder \\\n",
    "        .appName(\"reddit_nlp\") \\\n",
    "        .config(\"spark.serializer\", \"org.apache.spark.serializer.KryoSerializer\") \\\n",
    "        .config(\"spark.jars.packages\", \"com.johnsnowlabs.nlp:spark-nlp_2.12:3.4.2\") \\\n",
    "    .master('yarn') \\\n",
    "    .getOrCreate()"
   ]
  },
  {
   "cell_type": "code",
   "execution_count": 4,
   "id": "e180de7b-4902-4b27-b012-03aa4f88f7f9",
   "metadata": {},
   "outputs": [
    {
     "data": {
      "text/html": [
       "\n",
       "            <div>\n",
       "                <p><b>SparkSession - in-memory</b></p>\n",
       "                \n",
       "        <div>\n",
       "            <p><b>SparkContext</b></p>\n",
       "\n",
       "            <p><a href=\"http://ip-172-31-89-233.ec2.internal:4040\">Spark UI</a></p>\n",
       "\n",
       "            <dl>\n",
       "              <dt>Version</dt>\n",
       "                <dd><code>v3.0.0-amzn-0</code></dd>\n",
       "              <dt>Master</dt>\n",
       "                <dd><code>yarn</code></dd>\n",
       "              <dt>AppName</dt>\n",
       "                <dd><code>reddit_nlp</code></dd>\n",
       "            </dl>\n",
       "        </div>\n",
       "        \n",
       "            </div>\n",
       "        "
      ],
      "text/plain": [
       "<pyspark.sql.session.SparkSession at 0x7fe6c4949fd0>"
      ]
     },
     "execution_count": 4,
     "metadata": {},
     "output_type": "execute_result"
    }
   ],
   "source": [
    "spark"
   ]
  },
  {
   "cell_type": "code",
   "execution_count": 6,
   "id": "73b82849-b502-433f-b4f3-fe39c1fd45ac",
   "metadata": {},
   "outputs": [],
   "source": [
    "df_full = spark.read.parquet('s3://yc910-labdata-3/reddit_eda')"
   ]
  },
  {
   "cell_type": "code",
   "execution_count": 7,
   "id": "5247b8cd-978f-4d6c-a48d-b202256aa36d",
   "metadata": {},
   "outputs": [
    {
     "name": "stderr",
     "output_type": "stream",
     "text": [
      "[Stage 2:>                                                          (0 + 1) / 1]\r"
     ]
    },
    {
     "name": "stdout",
     "output_type": "stream",
     "text": [
      "+---------------+--------------+-------------------+---------------+--------------------+---------+----------------+-----------+------+---------+-----------+-----+------------+---------------------+--------+----------+-------+------------+-----+--------+---------+-------+---------------+---------------+\n",
      "|         author|author_premium|  author_flair_text|author_fullname|                body|collapsed|controversiality|created_utc|gilded|no_follow|quarantined|score|send_replies|total_awards_received|len_body|      date|  month| score_group|covid|election|economics|finance|gender_equality|racial_equality|\n",
      "+---------------+--------------+-------------------+---------------+--------------------+---------+----------------+-----------+------+---------+-----------+-----+------------+---------------------+--------+----------+-------+------------+-----+--------+---------+-------+---------------+---------------+\n",
      "|         Lakis9|             0|          left-left|    t2_3dzc316j|We're on literall...|        0|               0| 1584130541|     0|        1|          0|    1|           1|                    0|      10|2020-03-13|2020-03|low_positive|    0|       0|        0|      0|              0|              0|\n",
      "|     LucidMetal|             0|      lib-libcenter|       t2_3vej5|Wait cringe isn't...|        0|               1| 1585598170|     0|        1|          0|    0|           1|                    0|      14|2020-03-30|2020-03|low_positive|    0|       0|        0|      0|              0|              0|\n",
      "|   orjelmort234|             0|authright-authright|    t2_4qizezkn|The national soci...|        0|               0| 1584472377|     0|        1|          0|    2|           1|                    0|       9|2020-03-17|2020-03|low_positive|    0|       0|        0|      0|              0|              0|\n",
      "| dumbopinion101|             0|    libleft-libleft|    t2_4l9e8crm|Okay well let me ...|        0|               0| 1584465986|     0|        1|          0|    1|           1|                    0|      96|2020-03-17|2020-03|low_positive|    0|       0|        0|      0|              0|              0|\n",
      "|vinylmaster2000|             0|  centrist-centrist|    t2_5tw8opu7|Wouldn't the auth...|        0|               0| 1584476000|     0|        0|          0|   14|           1|                    0|      27|2020-03-17|2020-03|low_positive|    0|       0|        0|      0|              0|              0|\n",
      "+---------------+--------------+-------------------+---------------+--------------------+---------+----------------+-----------+------+---------+-----------+-----+------------+---------------------+--------+----------+-------+------------+-----+--------+---------+-------+---------------+---------------+\n",
      "only showing top 5 rows\n",
      "\n"
     ]
    },
    {
     "name": "stderr",
     "output_type": "stream",
     "text": [
      "                                                                                \r"
     ]
    }
   ],
   "source": [
    "df_full.show(5)"
   ]
  },
  {
   "cell_type": "code",
   "execution_count": 8,
   "id": "fc104ea9-58fc-43b3-834b-95b131ccd112",
   "metadata": {},
   "outputs": [
    {
     "name": "stdout",
     "output_type": "stream",
     "text": [
      "root\n",
      " |-- author: string (nullable = true)\n",
      " |-- author_premium: integer (nullable = true)\n",
      " |-- author_flair_text: string (nullable = true)\n",
      " |-- author_fullname: string (nullable = true)\n",
      " |-- body: string (nullable = true)\n",
      " |-- collapsed: integer (nullable = true)\n",
      " |-- controversiality: long (nullable = true)\n",
      " |-- created_utc: long (nullable = true)\n",
      " |-- gilded: long (nullable = true)\n",
      " |-- no_follow: integer (nullable = true)\n",
      " |-- quarantined: integer (nullable = true)\n",
      " |-- score: long (nullable = true)\n",
      " |-- send_replies: integer (nullable = true)\n",
      " |-- total_awards_received: long (nullable = true)\n",
      " |-- len_body: integer (nullable = true)\n",
      " |-- date: date (nullable = true)\n",
      " |-- month: string (nullable = true)\n",
      " |-- score_group: string (nullable = true)\n",
      " |-- covid: integer (nullable = true)\n",
      " |-- election: integer (nullable = true)\n",
      " |-- economics: integer (nullable = true)\n",
      " |-- finance: integer (nullable = true)\n",
      " |-- gender_equality: integer (nullable = true)\n",
      " |-- racial_equality: integer (nullable = true)\n",
      "\n"
     ]
    }
   ],
   "source": [
    "df_full.printSchema()"
   ]
  },
  {
   "cell_type": "markdown",
   "id": "5364a81a-bc7d-4524-8494-94521bbf3491",
   "metadata": {},
   "source": [
    "## 1. Text Checks / Analysis\n",
    "### Answer:\n",
    "Most of the posts are short posts, and those posts shorter than 20 words are more than 50 percent. To get the most common and important words, we will do the text cleaning first. "
   ]
  },
  {
   "cell_type": "code",
   "execution_count": 17,
   "id": "8f5c2922-0f95-40ac-bc2c-44fd60ac2432",
   "metadata": {},
   "outputs": [
    {
     "name": "stderr",
     "output_type": "stream",
     "text": [
      "[Stage 36:======================================================> (55 + 2) / 57]\r"
     ]
    },
    {
     "name": "stdout",
     "output_type": "stream",
     "text": [
      "+-------+------------------+\n",
      "|summary|          len_body|\n",
      "+-------+------------------+\n",
      "|  count|           7753637|\n",
      "|   mean| 22.15030701076153|\n",
      "| stddev|18.300381640558925|\n",
      "|    min|                 6|\n",
      "|    max|               100|\n",
      "+-------+------------------+\n",
      "\n"
     ]
    },
    {
     "name": "stderr",
     "output_type": "stream",
     "text": [
      "                                                                                \r"
     ]
    }
   ],
   "source": [
    "df_full.select(\"len_body\").describe().show()"
   ]
  },
  {
   "cell_type": "code",
   "execution_count": 165,
   "id": "22e24157-c339-4aaa-a6f0-87afe9572dfe",
   "metadata": {},
   "outputs": [],
   "source": [
    "import matplotlib.pyplot as plt\n",
    "import seaborn as sns\n",
    "import pandas as pd\n",
    "import numpy as np"
   ]
  },
  {
   "cell_type": "code",
   "execution_count": 19,
   "id": "dfb4aee1-b800-4ea9-bb22-712067d96028",
   "metadata": {},
   "outputs": [
    {
     "name": "stderr",
     "output_type": "stream",
     "text": [
      "                                                                                \r"
     ]
    },
    {
     "data": {
      "image/png": "[encoded data removed]",
      "text/plain": [
       "<Figure size 864x720 with 1 Axes>"
      ]
     },
     "metadata": {
      "needs_background": "light"
     },
     "output_type": "display_data"
    }
   ],
   "source": [
    "df_small = df_full.sample(fraction=0.001, seed=502).toPandas()\n",
    "plt.figure(figsize=(12,10))\n",
    "pal = sns.color_palette(palette=\"coolwarm\", n_colors=2)[1::-1]\n",
    "sns.set(style = \"white\") ## Set a style\n",
    "plt.rcParams.update({'font.family':'serif'})\n",
    "plt.hist(\"len_body\", data = df_small, bins = range(1,102,5), edgecolor=\"black\", color=pal[1], alpha=0.5)\n",
    "\n",
    "### Set a title, axis label, legend and rotate the xticks\n",
    "plt.title(label=\"Figure 1. The Distribution of the Length of the Post Body \\nSample Size = 7881 (0.1%)\", fontsize = 20, fontweight = \"bold\", y = 1.01)\n",
    "plt.xlabel(xlabel = \"Length of the Post Body\", fontsize = 17, fontweight = \"bold\")\n",
    "plt.ylabel(ylabel = \"Number of the Posts\", fontsize = 17, fontweight = \"bold\")\n",
    "plt.xticks(fontsize = 15)\n",
    "plt.yticks(fontsize = 15)\n",
    "\n",
    "plt.show()"
   ]
  },
  {
   "cell_type": "markdown",
   "id": "3afbaa74-8633-490d-a8ce-0c2c8ce7713a",
   "metadata": {},
   "source": [
    "## 2. Clean the Text\n",
    "### Answer: \n",
    "To clean the data, a pipeline was constructed, including cleaning up non-word characters, removing stop words, stemming and lemmatizing. When running a `Stemmer`, a special pattern was recognized that the character `e` at the end of a word was removed, therefore, a `Lemmatizer` was utilized instead of a `Stemmer`, to extract the most important part of a word. And since there are some urls included in the posts, so a regex was firstly applied to remove those urls."
   ]
  },
  {
   "cell_type": "code",
   "execution_count": 11,
   "id": "29b1ed41-7161-4f0a-8573-cf6f0988336e",
   "metadata": {},
   "outputs": [
    {
     "name": "stdout",
     "output_type": "stream",
     "text": [
      "Requirement already satisfied: sparknlp in /mnt/miniconda/lib/python3.7/site-packages (1.0.0)\n",
      "Requirement already satisfied: numpy in /mnt/miniconda/lib/python3.7/site-packages (from sparknlp) (1.21.2)\n",
      "Requirement already satisfied: spark-nlp in /mnt/miniconda/lib/python3.7/site-packages (from sparknlp) (3.4.3)\n"
     ]
    }
   ],
   "source": [
    "!/mnt/miniconda/bin/pip install sparknlp"
   ]
  },
  {
   "cell_type": "code",
   "execution_count": 12,
   "id": "49beb298-e0b7-4ee7-8779-0ba321ac5b9a",
   "metadata": {},
   "outputs": [],
   "source": [
    "from pyspark.ml import Pipeline\n",
    "from sparknlp.annotator import *\n",
    "from sparknlp.base import *\n",
    "import sparknlp"
   ]
  },
  {
   "cell_type": "code",
   "execution_count": 13,
   "id": "f611aab4-4f3e-4546-896d-7f905cd312ef",
   "metadata": {},
   "outputs": [],
   "source": [
    "empty_df = spark.createDataFrame([['']]).toDF(\"body\")"
   ]
  },
  {
   "cell_type": "code",
   "execution_count": 14,
   "id": "2100fc1a-44bb-4e2b-a2e7-e1c274e502de",
   "metadata": {},
   "outputs": [],
   "source": [
    "df_full = df_full.withColumn(\"body\", f.regexp_replace(\"body\", \"[\\( ](http\\S+)[\\) ]\", \" \"))"
   ]
  },
  {
   "cell_type": "code",
   "execution_count": 15,
   "id": "31ebd1c3-b838-4d07-93fd-aa7e1fc54e36",
   "metadata": {},
   "outputs": [
    {
     "name": "stdout",
     "output_type": "stream",
     "text": [
      "stopwords_en download started this may take some time.\n",
      "Approximate size to download 2.9 KB\n",
      "[ | ]stopwords_en download started this may take some time.\n",
      "Approximate size to download 2.9 KB\n",
      "Download done! Loading the resource.\n",
      "[OK!]"
     ]
    },
    {
     "name": "stderr",
     "output_type": "stream",
     "text": [
      "                                                                                \r"
     ]
    },
    {
     "name": "stdout",
     "output_type": "stream",
     "text": [
      "\n",
      "lemma_antbnc download started this may take some time.\n",
      "Approximate size to download 907.6 KB\n",
      "[ | ]lemma_antbnc download started this may take some time.\n",
      "Approximate size to download 907.6 KB\n",
      "Download done! Loading the resource.\n"
     ]
    },
    {
     "name": "stderr",
     "output_type": "stream",
     "text": [
      "                                                                                \r"
     ]
    },
    {
     "name": "stdout",
     "output_type": "stream",
     "text": [
      "[ / ]"
     ]
    },
    {
     "name": "stderr",
     "output_type": "stream",
     "text": [
      "                                                                                \r"
     ]
    },
    {
     "name": "stdout",
     "output_type": "stream",
     "text": [
      "[OK!]\n"
     ]
    }
   ],
   "source": [
    "documentAssembler = DocumentAssembler() \\\n",
    "    .setInputCol('body') \\\n",
    "    .setOutputCol('document')\n",
    "\n",
    "cleanUpPatterns = [\"[^a-zA-Z\\s]+\"]\n",
    "\n",
    "documentNormalizer = DocumentNormalizer() \\\n",
    "    .setInputCols(\"document\") \\\n",
    "    .setOutputCol(\"normalizedDocument\") \\\n",
    "    .setAction(\"clean\") \\\n",
    "    .setPatterns(cleanUpPatterns) \\\n",
    "    .setReplacement(\" \") \\\n",
    "    .setPolicy(\"pretty_all\") \\\n",
    "    .setLowercase(True)\n",
    "\n",
    "sentenceDetector = SentenceDetector() \\\n",
    "    .setInputCols([\"normalizedDocument\"]) \\\n",
    "    .setOutputCol(\"sentence\")\n",
    "\n",
    "Tokenizer = Tokenizer() \\\n",
    "    .setInputCols([\"sentence\"]) \\\n",
    "    .setOutputCol(\"stop_token\") \\\n",
    "    .fit(empty_df)\n",
    "    \n",
    "stopWordsCleaner = StopWordsCleaner.pretrained() \\\n",
    "    .setInputCols(\"stop_token\") \\\n",
    "    .setOutputCol(\"stop_body\") \\\n",
    "    .setCaseSensitive(False)\n",
    "\n",
    "stemmer = Stemmer() \\\n",
    "    .setInputCols([\"stop_body\"]) \\\n",
    "    .setOutputCol(\"stem_body\")\n",
    "\n",
    "lemmatizer = LemmatizerModel.pretrained() \\\n",
    "    .setInputCols([\"stop_body\"]) \\\n",
    "    .setOutputCol(\"lemma_body\")\n",
    "\n",
    "tokenAssembler_stem = TokenAssembler() \\\n",
    "    .setInputCols([\"sentence\", \"stem_body\"]) \\\n",
    "    .setOutputCol(\"clean_text\")\n",
    "\n",
    "tokenAssembler_lemma = TokenAssembler() \\\n",
    "    .setInputCols([\"sentence\", \"lemma_body\"]) \\\n",
    "    .setOutputCol(\"clean_text\")"
   ]
  },
  {
   "cell_type": "code",
   "execution_count": 16,
   "id": "48506e34-eba1-4d5e-88e5-6896869cd17f",
   "metadata": {},
   "outputs": [],
   "source": [
    "cleanPipeline_stem = Pipeline() \\\n",
    "    .setStages([\n",
    "        documentAssembler,\n",
    "        documentNormalizer,\n",
    "        sentenceDetector, \n",
    "        Tokenizer, \n",
    "        stopWordsCleaner, \n",
    "        stemmer,\n",
    "        tokenAssembler_stem])\n",
    "df_clean_stem = cleanPipeline_stem.fit(df_full).transform(df_full)"
   ]
  },
  {
   "cell_type": "code",
   "execution_count": 17,
   "id": "337fcfc8-eb33-4aaf-b244-870b8a906627",
   "metadata": {},
   "outputs": [
    {
     "name": "stderr",
     "output_type": "stream",
     "text": [
      "22/04/15 20:47:27 WARN package: Truncated the string representation of a plan since it was too large. This behavior can be adjusted by setting 'spark.sql.debug.maxToStringFields'.\n",
      "[Stage 9:>                                                          (0 + 1) / 1]\r"
     ]
    },
    {
     "name": "stdout",
     "output_type": "stream",
     "text": [
      "+---------------------------------------------------------------------------------------------------------------------------------------------------------------------------------------------------------------------------------------------------------------------------------------+\n",
      "|clean_text                                                                                                                                                                                                                                                                             |\n",
      "+---------------------------------------------------------------------------------------------------------------------------------------------------------------------------------------------------------------------------------------------------------------------------------------+\n",
      "|[[document, 0, 24, liter exact point compass, [sentence -> 0], []]]                                                                                                                                                                                                                    |\n",
      "|[[document, 0, 42, wait cring isn opposit retard don make sens, [sentence -> 0], []]]                                                                                                                                                                                                  |\n",
      "|[[document, 0, 49, nation socialist centri certerleft italian fascist, [sentence -> 0], []]]                                                                                                                                                                                           |\n",
      "|[[document, 0, 235, fair bit socialist thought reddit don reddit minut hear rant femin bad male rape problem fals accus horribl todai men opt pregnanc gai peopl treat person annoi word reddit brocialist don lib righter unpopularopinion alt circl jerk point, [sentence -> 0], []]]|\n",
      "|[[document, 0, 89, wouldn authright readi marriag lower ag limit marriag depend religion marri point hinduism, [sentence -> 0], []]]                                                                                                                                                   |\n",
      "+---------------------------------------------------------------------------------------------------------------------------------------------------------------------------------------------------------------------------------------------------------------------------------------+\n",
      "only showing top 5 rows\n",
      "\n"
     ]
    },
    {
     "name": "stderr",
     "output_type": "stream",
     "text": [
      "                                                                                \r"
     ]
    }
   ],
   "source": [
    "df_clean_stem.select(\"clean_text\").show(5,truncate=False)"
   ]
  },
  {
   "cell_type": "code",
   "execution_count": 18,
   "id": "41770a68-09c8-46d3-b62e-7d506a240164",
   "metadata": {},
   "outputs": [],
   "source": [
    "cleanPipeline_lemma = Pipeline() \\\n",
    "    .setStages([\n",
    "        documentAssembler,\n",
    "        documentNormalizer,\n",
    "        sentenceDetector, \n",
    "        Tokenizer, \n",
    "        stopWordsCleaner, \n",
    "        lemmatizer,\n",
    "        tokenAssembler_lemma])\n",
    "df_clean_lemma = cleanPipeline_lemma.fit(df_full).transform(df_full)"
   ]
  },
  {
   "cell_type": "code",
   "execution_count": 19,
   "id": "2012cf96-db6b-44b4-b31d-47ad2ea29957",
   "metadata": {},
   "outputs": [
    {
     "name": "stderr",
     "output_type": "stream",
     "text": [
      "[Stage 10:>                                                         (0 + 1) / 1]\r"
     ]
    },
    {
     "name": "stdout",
     "output_type": "stream",
     "text": [
      "+-----------------------------------------------------------------------------------------------------------------------------------------------------------------------------------------------------------------------------------------------------------------------------------------------------------+\n",
      "|clean_text                                                                                                                                                                                                                                                                                                 |\n",
      "+-----------------------------------------------------------------------------------------------------------------------------------------------------------------------------------------------------------------------------------------------------------------------------------------------------------+\n",
      "|[[document, 0, 28, literally exact point compass, [sentence -> 0], []]]                                                                                                                                                                                                                                    |\n",
      "|[[document, 0, 47, wait cringe isn opposite retarded don make sense, [sentence -> 0], []]]                                                                                                                                                                                                                 |\n",
      "|[[document, 0, 52, national socialist centris certerleft italian fascist, [sentence -> 0], []]]                                                                                                                                                                                                            |\n",
      "|[[document, 0, 255, fair bit socialistic think reddit don reddit minute hear rant feminism bad male rape problem false accusation horrible today man opt pregnancy gay people treat personality annoy word reddit brocialist don lib righters unpopularopinion alt circle jerk point, [sentence -> 0], []]]|\n",
      "|[[document, 0, 90, wouldn authright ready marriage low age limit marriage depend religion marry point hinduism, [sentence -> 0], []]]                                                                                                                                                                      |\n",
      "+-----------------------------------------------------------------------------------------------------------------------------------------------------------------------------------------------------------------------------------------------------------------------------------------------------------+\n",
      "only showing top 5 rows\n",
      "\n"
     ]
    },
    {
     "name": "stderr",
     "output_type": "stream",
     "text": [
      "                                                                                \r"
     ]
    }
   ],
   "source": [
    "df_clean_lemma.select(\"clean_text\").show(5,truncate=False)"
   ]
  },
  {
   "cell_type": "code",
   "execution_count": 20,
   "id": "d3f4701f-a9b9-4e31-9e6a-c79a58a355e4",
   "metadata": {},
   "outputs": [
    {
     "name": "stdout",
     "output_type": "stream",
     "text": [
      "root\n",
      " |-- author: string (nullable = true)\n",
      " |-- author_premium: integer (nullable = true)\n",
      " |-- author_flair_text: string (nullable = true)\n",
      " |-- author_fullname: string (nullable = true)\n",
      " |-- body: string (nullable = true)\n",
      " |-- collapsed: integer (nullable = true)\n",
      " |-- controversiality: long (nullable = true)\n",
      " |-- created_utc: long (nullable = true)\n",
      " |-- gilded: long (nullable = true)\n",
      " |-- no_follow: integer (nullable = true)\n",
      " |-- quarantined: integer (nullable = true)\n",
      " |-- score: long (nullable = true)\n",
      " |-- send_replies: integer (nullable = true)\n",
      " |-- total_awards_received: long (nullable = true)\n",
      " |-- len_body: integer (nullable = true)\n",
      " |-- date: date (nullable = true)\n",
      " |-- month: string (nullable = true)\n",
      " |-- score_group: string (nullable = true)\n",
      " |-- covid: integer (nullable = true)\n",
      " |-- election: integer (nullable = true)\n",
      " |-- economics: integer (nullable = true)\n",
      " |-- finance: integer (nullable = true)\n",
      " |-- gender_equality: integer (nullable = true)\n",
      " |-- racial_equality: integer (nullable = true)\n",
      " |-- document: array (nullable = true)\n",
      " |    |-- element: struct (containsNull = true)\n",
      " |    |    |-- annotatorType: string (nullable = true)\n",
      " |    |    |-- begin: integer (nullable = false)\n",
      " |    |    |-- end: integer (nullable = false)\n",
      " |    |    |-- result: string (nullable = true)\n",
      " |    |    |-- metadata: map (nullable = true)\n",
      " |    |    |    |-- key: string\n",
      " |    |    |    |-- value: string (valueContainsNull = true)\n",
      " |    |    |-- embeddings: array (nullable = true)\n",
      " |    |    |    |-- element: float (containsNull = false)\n",
      " |-- normalizedDocument: array (nullable = true)\n",
      " |    |-- element: struct (containsNull = true)\n",
      " |    |    |-- annotatorType: string (nullable = true)\n",
      " |    |    |-- begin: integer (nullable = false)\n",
      " |    |    |-- end: integer (nullable = false)\n",
      " |    |    |-- result: string (nullable = true)\n",
      " |    |    |-- metadata: map (nullable = true)\n",
      " |    |    |    |-- key: string\n",
      " |    |    |    |-- value: string (valueContainsNull = true)\n",
      " |    |    |-- embeddings: array (nullable = true)\n",
      " |    |    |    |-- element: float (containsNull = false)\n",
      " |-- sentence: array (nullable = true)\n",
      " |    |-- element: struct (containsNull = true)\n",
      " |    |    |-- annotatorType: string (nullable = true)\n",
      " |    |    |-- begin: integer (nullable = false)\n",
      " |    |    |-- end: integer (nullable = false)\n",
      " |    |    |-- result: string (nullable = true)\n",
      " |    |    |-- metadata: map (nullable = true)\n",
      " |    |    |    |-- key: string\n",
      " |    |    |    |-- value: string (valueContainsNull = true)\n",
      " |    |    |-- embeddings: array (nullable = true)\n",
      " |    |    |    |-- element: float (containsNull = false)\n",
      " |-- stop_token: array (nullable = true)\n",
      " |    |-- element: struct (containsNull = true)\n",
      " |    |    |-- annotatorType: string (nullable = true)\n",
      " |    |    |-- begin: integer (nullable = false)\n",
      " |    |    |-- end: integer (nullable = false)\n",
      " |    |    |-- result: string (nullable = true)\n",
      " |    |    |-- metadata: map (nullable = true)\n",
      " |    |    |    |-- key: string\n",
      " |    |    |    |-- value: string (valueContainsNull = true)\n",
      " |    |    |-- embeddings: array (nullable = true)\n",
      " |    |    |    |-- element: float (containsNull = false)\n",
      " |-- stop_body: array (nullable = true)\n",
      " |    |-- element: struct (containsNull = true)\n",
      " |    |    |-- annotatorType: string (nullable = true)\n",
      " |    |    |-- begin: integer (nullable = false)\n",
      " |    |    |-- end: integer (nullable = false)\n",
      " |    |    |-- result: string (nullable = true)\n",
      " |    |    |-- metadata: map (nullable = true)\n",
      " |    |    |    |-- key: string\n",
      " |    |    |    |-- value: string (valueContainsNull = true)\n",
      " |    |    |-- embeddings: array (nullable = true)\n",
      " |    |    |    |-- element: float (containsNull = false)\n",
      " |-- lemma_body: array (nullable = true)\n",
      " |    |-- element: struct (containsNull = true)\n",
      " |    |    |-- annotatorType: string (nullable = true)\n",
      " |    |    |-- begin: integer (nullable = false)\n",
      " |    |    |-- end: integer (nullable = false)\n",
      " |    |    |-- result: string (nullable = true)\n",
      " |    |    |-- metadata: map (nullable = true)\n",
      " |    |    |    |-- key: string\n",
      " |    |    |    |-- value: string (valueContainsNull = true)\n",
      " |    |    |-- embeddings: array (nullable = true)\n",
      " |    |    |    |-- element: float (containsNull = false)\n",
      " |-- clean_text: array (nullable = true)\n",
      " |    |-- element: struct (containsNull = true)\n",
      " |    |    |-- annotatorType: string (nullable = true)\n",
      " |    |    |-- begin: integer (nullable = false)\n",
      " |    |    |-- end: integer (nullable = false)\n",
      " |    |    |-- result: string (nullable = true)\n",
      " |    |    |-- metadata: map (nullable = true)\n",
      " |    |    |    |-- key: string\n",
      " |    |    |    |-- value: string (valueContainsNull = true)\n",
      " |    |    |-- embeddings: array (nullable = true)\n",
      " |    |    |    |-- element: float (containsNull = false)\n",
      "\n"
     ]
    }
   ],
   "source": [
    "df_clean_lemma.printSchema()"
   ]
  },
  {
   "cell_type": "code",
   "execution_count": 21,
   "id": "f002d167-3eb8-42c4-9d81-e0e0a05e0faf",
   "metadata": {},
   "outputs": [],
   "source": [
    "df_clean = df_clean_lemma.drop(\"normalizedDocument\", \"sentence\", \"stop_token\", \"stop_body\")\n",
    "df_clean = df_clean.withColumn(\"clean_text\", f.explode(col(\"clean_text\").result))"
   ]
  },
  {
   "cell_type": "code",
   "execution_count": 22,
   "id": "adeb1258-1ef7-40dc-b94d-d100972a7996",
   "metadata": {},
   "outputs": [],
   "source": [
    "df_clean = df_clean.withColumn(\"word_list\", col(\"lemma_body\").result)"
   ]
  },
  {
   "cell_type": "code",
   "execution_count": 23,
   "id": "9373a876-5ade-4a63-a2b3-7ffca3c7c56d",
   "metadata": {},
   "outputs": [
    {
     "name": "stderr",
     "output_type": "stream",
     "text": [
      "[Stage 11:>                                                         (0 + 1) / 1]\r"
     ]
    },
    {
     "name": "stdout",
     "output_type": "stream",
     "text": [
      "+------------+--------------+-------------------+---------------+--------------------+---------+----------------+-----------+------+---------+-----------+-----+------------+---------------------+--------+----------+-------+------------+-----+--------+---------+-------+---------------+---------------+--------------------+--------------------+--------------------+--------------------+\n",
      "|      author|author_premium|  author_flair_text|author_fullname|                body|collapsed|controversiality|created_utc|gilded|no_follow|quarantined|score|send_replies|total_awards_received|len_body|      date|  month| score_group|covid|election|economics|finance|gender_equality|racial_equality|            document|          lemma_body|          clean_text|           word_list|\n",
      "+------------+--------------+-------------------+---------------+--------------------+---------+----------------+-----------+------+---------+-----------+-----+------------+---------------------+--------+----------+-------+------------+-----+--------+---------+-------+---------------+---------------+--------------------+--------------------+--------------------+--------------------+\n",
      "|      Lakis9|             0|          left-left|    t2_3dzc316j|We're on literall...|        0|               0| 1584130541|     0|        1|          0|    1|           1|                    0|      10|2020-03-13|2020-03|low_positive|    0|       0|        0|      0|              0|              0|[[document, 0, 53...|[[token, 9, 17, l...|literally exact p...|[literally, exact...|\n",
      "|  LucidMetal|             0|      lib-libcenter|       t2_3vej5|Wait cringe isn't...|        0|               1| 1585598170|     0|        1|          0|    0|           1|                    0|      14|2020-03-30|2020-03|low_positive|    0|       0|        0|      0|              0|              0|[[document, 0, 79...|[[token, 0, 3, wa...|wait cringe isn o...|[wait, cringe, is...|\n",
      "|orjelmort234|             0|authright-authright|    t2_4qizezkn|The national soci...|        0|               0| 1584472377|     0|        1|          0|    2|           1|                    0|       9|2020-03-17|2020-03|low_positive|    0|       0|        0|      0|              0|              0|[[document, 0, 69...|[[token, 4, 11, n...|national socialis...|[national, social...|\n",
      "+------------+--------------+-------------------+---------------+--------------------+---------+----------------+-----------+------+---------+-----------+-----+------------+---------------------+--------+----------+-------+------------+-----+--------+---------+-------+---------------+---------------+--------------------+--------------------+--------------------+--------------------+\n",
      "only showing top 3 rows\n",
      "\n"
     ]
    },
    {
     "name": "stderr",
     "output_type": "stream",
     "text": [
      "                                                                                \r"
     ]
    }
   ],
   "source": [
    "df_clean.show(3)"
   ]
  },
  {
   "cell_type": "markdown",
   "id": "709b96bc-3888-4181-b38e-bc0cf005b3fa",
   "metadata": {},
   "source": [
    "## 3. Identify Most Common Words\n",
    "### Answer:\n",
    "From the results of CountVectorizer and TF-IDF, the most common and important words are `people`, `government`, `auth/lib`, `right/left`. Therefore, dummy variables including `government`, `eco_left / eco_right / eco_centralist`, and `auth / lib` are created.\n",
    "### 3.1 CountVectorizer"
   ]
  },
  {
   "cell_type": "code",
   "execution_count": 24,
   "id": "da3678e4-1d23-4bb9-8ac6-686f7bcef0ff",
   "metadata": {},
   "outputs": [],
   "source": [
    "from pyspark.ml.feature import CountVectorizer\n",
    "cv = CountVectorizer(inputCol=\"word_list\", outputCol=\"word_vec\", minDF=100)\n",
    "model = cv.fit(df_clean)\n",
    "df_count_vec = model.transform(df_clean)"
   ]
  },
  {
   "cell_type": "code",
   "execution_count": null,
   "id": "e53c2005-d3b2-4c9c-b701-ebfbca0bd5d2",
   "metadata": {},
   "outputs": [],
   "source": [
    "df_counts = df_count_vec.select(\"word_vec\").rdd.map(lambda row: row['word_vec'].toArray()).reduce(lambda x,y: [x[i]+y[i] for i in range(len(y))])"
   ]
  },
  {
   "cell_type": "code",
   "execution_count": null,
   "id": "b86e485c-6790-4152-8a2e-293b2551d3c3",
   "metadata": {},
   "outputs": [],
   "source": [
    "import numpy as np\n",
    "vocablist = model.vocabulary\n",
    "d = {'vocabList':vocablist,'counts':df_counts}\n",
    "df_cv = spark.createDataFrame(np.array(list(d.values())).T.tolist(),list(d.keys()))"
   ]
  },
  {
   "cell_type": "code",
   "execution_count": 104,
   "id": "65cf384a-57d0-4e10-83d1-f85711ca6e70",
   "metadata": {},
   "outputs": [
    {
     "name": "stdout",
     "output_type": "stream",
     "text": [
      "+----------+--------+\n",
      "| vocabList|  counts|\n",
      "+----------+--------+\n",
      "|    people|985283.0|\n",
      "|       don|704019.0|\n",
      "|      make|604063.0|\n",
      "|      base|550588.0|\n",
      "|     leave|364049.0|\n",
      "|        gt|347839.0|\n",
      "|     thing|342876.0|\n",
      "|      good|290217.0|\n",
      "|      time|288241.0|\n",
      "|       bad|277712.0|\n",
      "|      fuck|272101.0|\n",
      "|      shit|253419.0|\n",
      "|     count|236652.0|\n",
      "|   libleft|231883.0|\n",
      "|      info|227439.0|\n",
      "|government|226895.0|\n",
      "|      work|223978.0|\n",
      "|     doesn|223250.0|\n",
      "|      yeah|223220.0|\n",
      "|       man|221568.0|\n",
      "+----------+--------+\n",
      "only showing top 20 rows\n",
      "\n"
     ]
    }
   ],
   "source": [
    "df_cv.show(20)"
   ]
  },
  {
   "cell_type": "markdown",
   "id": "8cea8aaf-1d58-449e-a143-7ad9ccc25a8b",
   "metadata": {},
   "source": [
    "### 3.2 TF-IDF"
   ]
  },
  {
   "cell_type": "code",
   "execution_count": 24,
   "id": "7bf83dd6-9a17-4ac7-b824-b13e0f89f089",
   "metadata": {},
   "outputs": [],
   "source": [
    "from pyspark.ml.feature import HashingTF, IDF"
   ]
  },
  {
   "cell_type": "code",
   "execution_count": 25,
   "id": "ebbd7752-057a-4390-8091-f5d8a09267d0",
   "metadata": {},
   "outputs": [],
   "source": [
    "hashingTF = HashingTF(numFeatures=10000, inputCol=\"word_list\", outputCol=\"TF\")\n",
    "df_tf = hashingTF.transform(df_clean)"
   ]
  },
  {
   "cell_type": "code",
   "execution_count": 26,
   "id": "b0d7033c-2658-4abc-8b69-42aa1359aa44",
   "metadata": {},
   "outputs": [
    {
     "name": "stdout",
     "output_type": "stream",
     "text": [
      "+-----------------------------------------------------------------------------------------------------------------------------------------------------------------------------------------------------------------------------------------------------------------------------------------------------------------------------------+\n",
      "|TF                                                                                                                                                                                                                                                                                                                                 |\n",
      "+-----------------------------------------------------------------------------------------------------------------------------------------------------------------------------------------------------------------------------------------------------------------------------------------------------------------------------------+\n",
      "|(10000,[4416,4800,6491,6916],[1.0,1.0,1.0,1.0])                                                                                                                                                                                                                                                                                    |\n",
      "|(10000,[3167,3525,4344,5056,5447,5477,6329,8024],[1.0,1.0,1.0,1.0,1.0,1.0,1.0,1.0])                                                                                                                                                                                                                                                |\n",
      "|(10000,[3535,4704,6887,7910,8200,8493],[1.0,1.0,1.0,1.0,1.0,1.0])                                                                                                                                                                                                                                                                  |\n",
      "|(10000,[150,383,600,1623,1698,1989,2335,2569,2619,3059,3195,3357,3519,3753,3784,4148,4191,4263,4317,4344,4416,4842,5092,5255,5885,6204,6859,7956,8133,8333,8344,8750,8877,9806,9841],[1.0,1.0,1.0,1.0,1.0,1.0,1.0,1.0,1.0,1.0,1.0,1.0,1.0,1.0,1.0,1.0,1.0,1.0,1.0,2.0,1.0,1.0,1.0,1.0,1.0,3.0,1.0,1.0,1.0,1.0,1.0,1.0,1.0,1.0,1.0])|\n",
      "|(10000,[1491,3543,3549,4416,4445,6229,6557,8105,8411,8433,8791,9033],[1.0,1.0,1.0,1.0,1.0,2.0,1.0,1.0,1.0,1.0,1.0,1.0])                                                                                                                                                                                                            |\n",
      "+-----------------------------------------------------------------------------------------------------------------------------------------------------------------------------------------------------------------------------------------------------------------------------------------------------------------------------------+\n",
      "only showing top 5 rows\n",
      "\n"
     ]
    },
    {
     "name": "stderr",
     "output_type": "stream",
     "text": [
      "                                                                                \r"
     ]
    },
    {
     "data": {
      "text/plain": [
       "DataFrame[author: string, author_premium: int, author_flair_text: string, author_fullname: string, body: string, collapsed: int, controversiality: bigint, created_utc: bigint, gilded: bigint, no_follow: int, quarantined: int, score: bigint, send_replies: int, total_awards_received: bigint, len_body: int, date: date, month: string, score_group: string, covid: int, election: int, economics: int, finance: int, gender_equality: int, racial_equality: int, document: array<struct<annotatorType:string,begin:int,end:int,result:string,metadata:map<string,string>,embeddings:array<float>>>, lemma_body: array<struct<annotatorType:string,begin:int,end:int,result:string,metadata:map<string,string>,embeddings:array<float>>>, clean_text: string, word_list: array<string>, TF: vector]"
      ]
     },
     "execution_count": 26,
     "metadata": {},
     "output_type": "execute_result"
    }
   ],
   "source": [
    "df_tf.select(\"TF\").show(5, truncate=False)\n",
    "df_tf.cache()"
   ]
  },
  {
   "cell_type": "code",
   "execution_count": 27,
   "id": "70634971-57ba-438d-89ce-d721f2456850",
   "metadata": {},
   "outputs": [
    {
     "name": "stderr",
     "output_type": "stream",
     "text": [
      "                                                                                \r"
     ]
    }
   ],
   "source": [
    "_IDF = IDF(inputCol=\"TF\", outputCol=\"IDF\")\n",
    "IDF_model = _IDF.fit(df_tf)"
   ]
  },
  {
   "cell_type": "code",
   "execution_count": 28,
   "id": "bdc6d4cc-3af5-4914-81f3-d9715c5629f4",
   "metadata": {},
   "outputs": [],
   "source": [
    "df_idf = IDF_model.transform(df_tf)"
   ]
  },
  {
   "cell_type": "code",
   "execution_count": 29,
   "id": "85a05370-e980-4a12-a854-6c0ceadae14f",
   "metadata": {},
   "outputs": [
    {
     "name": "stdout",
     "output_type": "stream",
     "text": [
      "+-------------------------------------------------------------------------------------------------------------------------------------------------------------------------------------------------------------------------------------------------------------------------------------------------------+-----------------------------------------------------------------------------------------------------------------------------------------------------------------------------------------------------------------------------------------------------------------------------------------------------------------------------------+\n",
      "|word_list                                                                                                                                                                                                                                                                                              |TF                                                                                                                                                                                                                                                                                                                                 |\n",
      "+-------------------------------------------------------------------------------------------------------------------------------------------------------------------------------------------------------------------------------------------------------------------------------------------------------+-----------------------------------------------------------------------------------------------------------------------------------------------------------------------------------------------------------------------------------------------------------------------------------------------------------------------------------+\n",
      "|[literally, exact, point, compass]                                                                                                                                                                                                                                                                     |(10000,[4416,4800,6491,6916],[1.0,1.0,1.0,1.0])                                                                                                                                                                                                                                                                                    |\n",
      "|[wait, cringe, isn, opposite, retarded, don, make, sense]                                                                                                                                                                                                                                              |(10000,[3167,3525,4344,5056,5447,5477,6329,8024],[1.0,1.0,1.0,1.0,1.0,1.0,1.0,1.0])                                                                                                                                                                                                                                                |\n",
      "|[national, socialist, centris, certerleft, italian, fascist]                                                                                                                                                                                                                                           |(10000,[3535,4704,6887,7910,8200,8493],[1.0,1.0,1.0,1.0,1.0,1.0])                                                                                                                                                                                                                                                                  |\n",
      "|[fair, bit, socialistic, think, reddit, don, reddit, minute, hear, rant, feminism, bad, male, rape, problem, false, accusation, horrible, today, man, opt, pregnancy, gay, people, treat, personality, annoy, word, reddit, brocialist, don, lib, righters, unpopularopinion, alt, circle, jerk, point]|(10000,[150,383,600,1623,1698,1989,2335,2569,2619,3059,3195,3357,3519,3753,3784,4148,4191,4263,4317,4344,4416,4842,5092,5255,5885,6204,6859,7956,8133,8333,8344,8750,8877,9806,9841],[1.0,1.0,1.0,1.0,1.0,1.0,1.0,1.0,1.0,1.0,1.0,1.0,1.0,1.0,1.0,1.0,1.0,1.0,1.0,2.0,1.0,1.0,1.0,1.0,1.0,3.0,1.0,1.0,1.0,1.0,1.0,1.0,1.0,1.0,1.0])|\n",
      "|[wouldn, authright, ready, marriage, low, age, limit, marriage, depend, religion, marry, point, hinduism]                                                                                                                                                                                              |(10000,[1491,3543,3549,4416,4445,6229,6557,8105,8411,8433,8791,9033],[1.0,1.0,1.0,1.0,1.0,2.0,1.0,1.0,1.0,1.0,1.0,1.0])                                                                                                                                                                                                            |\n",
      "+-------------------------------------------------------------------------------------------------------------------------------------------------------------------------------------------------------------------------------------------------------------------------------------------------------+-----------------------------------------------------------------------------------------------------------------------------------------------------------------------------------------------------------------------------------------------------------------------------------------------------------------------------------+\n",
      "only showing top 5 rows\n",
      "\n"
     ]
    }
   ],
   "source": [
    "df_tf.select(\"word_list\",\"TF\").show(5, truncate=False)"
   ]
  },
  {
   "cell_type": "code",
   "execution_count": 30,
   "id": "2d8fa70e-79bc-46b4-8c42-f012f01365d7",
   "metadata": {},
   "outputs": [
    {
     "name": "stdout",
     "output_type": "stream",
     "text": [
      "+-------------------------------------------------------------------------------------------------------------------------------------------------------------------------------------------------------------------------------------------------------------------------------------------------------+-------------------------------------------------------------------------------------------------------------------------------------------------------------------------------------------------------------------------------------------------------------------------------------------------------------------------------------------------------------------------------------------------------------------------------------------------------------------------------------------------------------------------------------------------------------------------------------------------------------------------------------------------------------------------------------------------------------------------------------------------------------------------------------------------------------------------------------------------+\n",
      "|word_list                                                                                                                                                                                                                                                                                              |IDF                                                                                                                                                                                                                                                                                                                                                                                                                                                                                                                                                                                                                                                                                                                                                                                                                                              |\n",
      "+-------------------------------------------------------------------------------------------------------------------------------------------------------------------------------------------------------------------------------------------------------------------------------------------------------+-------------------------------------------------------------------------------------------------------------------------------------------------------------------------------------------------------------------------------------------------------------------------------------------------------------------------------------------------------------------------------------------------------------------------------------------------------------------------------------------------------------------------------------------------------------------------------------------------------------------------------------------------------------------------------------------------------------------------------------------------------------------------------------------------------------------------------------------------+\n",
      "|[literally, exact, point, compass]                                                                                                                                                                                                                                                                     |(10000,[4416,4800,6491,6916],[3.7763417746184738,6.168686564916481,3.9764661681648374,4.394615118038536])                                                                                                                                                                                                                                                                                                                                                                                                                                                                                                                                                                                                                                                                                                                                        |\n",
      "|[wait, cringe, isn, opposite, retarded, don, make, sense]                                                                                                                                                                                                                                              |(10000,[3167,3525,4344,5056,5447,5477,6329,8024],[5.154785740359509,2.642971505746815,2.4940589860798874,3.696062053965959,4.801696711506972,4.650771105072652,5.066465422447472,5.803867148936993])                                                                                                                                                                                                                                                                                                                                                                                                                                                                                                                                                                                                                                             |\n",
      "|[national, socialist, centris, certerleft, italian, fascist]                                                                                                                                                                                                                                           |(10000,[3535,4704,6887,7910,8200,8493],[4.509470031471585,4.296500486289015,6.686955445281422,5.75074847095795,5.121863942750001,4.917007034460635])                                                                                                                                                                                                                                                                                                                                                                                                                                                                                                                                                                                                                                                                                             |\n",
      "|[fair, bit, socialistic, think, reddit, don, reddit, minute, hear, rant, feminism, bad, male, rape, problem, false, accusation, horrible, today, man, opt, pregnancy, gay, people, treat, personality, annoy, word, reddit, brocialist, don, lib, righters, unpopularopinion, alt, circle, jerk, point]|(10000,[150,383,600,1623,1698,1989,2335,2569,2619,3059,3195,3357,3519,3753,3784,4148,4191,4263,4317,4344,4416,4842,5092,5255,5885,6204,6859,7956,8133,8333,8344,8750,8877,9806,9841],[5.284138567598665,6.469540189901528,6.341184100981741,6.649184457969705,4.350492945494792,4.962866696895858,3.8667857510980403,3.5426417201196214,6.51615139594801,5.490596403215705,8.90277063635471,5.958781173965312,4.312627402599648,9.320646404949214,5.125830782612813,6.0180017262462195,6.015249236682902,2.2564035329050056,8.161466002813793,4.988117972159775,3.7763417746184738,4.5986799011386665,6.855139005611516,7.566322499685965,4.549815256758653,13.365660415060486,9.44965940828866,3.428667891373204,5.701622174279601,7.745507618989789,5.172196703170739,5.725230853349981,7.550246971113403,5.422026948121294,3.735299195896178])|\n",
      "|[wouldn, authright, ready, marriage, low, age, limit, marriage, depend, religion, marry, point, hinduism]                                                                                                                                                                                              |(10000,[1491,3543,3549,4416,4445,6229,6557,8105,8411,8433,8791,9033],[5.437598222455817,3.853723840776424,4.4799371875414495,3.7763417746184738,6.019380817325664,12.003928731871937,6.487602595520851,8.035080333330189,4.783286175711428,6.244915760771949,5.320649469603727,5.264485629697272])                                                                                                                                                                                                                                                                                                                                                                                                                                                                                                                                               |\n",
      "+-------------------------------------------------------------------------------------------------------------------------------------------------------------------------------------------------------------------------------------------------------------------------------------------------------+-------------------------------------------------------------------------------------------------------------------------------------------------------------------------------------------------------------------------------------------------------------------------------------------------------------------------------------------------------------------------------------------------------------------------------------------------------------------------------------------------------------------------------------------------------------------------------------------------------------------------------------------------------------------------------------------------------------------------------------------------------------------------------------------------------------------------------------------------+\n",
      "only showing top 5 rows\n",
      "\n"
     ]
    }
   ],
   "source": [
    "df_idf.select(\"word_list\",\"IDF\").show(5, truncate=False)"
   ]
  },
  {
   "cell_type": "markdown",
   "id": "19496fe3-dbb5-493e-bb23-14ee6760545f",
   "metadata": {},
   "source": [
    "### 3.3 Create Dummy Variables"
   ]
  },
  {
   "cell_type": "code",
   "execution_count": 31,
   "id": "947d9aeb-641a-40cc-839a-9c741f7ba4fb",
   "metadata": {},
   "outputs": [],
   "source": [
    "df_small = df_clean.limit(100000)"
   ]
  },
  {
   "cell_type": "code",
   "execution_count": 32,
   "id": "c1122496-42a9-4620-a36d-8fb039a6473a",
   "metadata": {},
   "outputs": [
    {
     "name": "stderr",
     "output_type": "stream",
     "text": [
      "                                                                                \r"
     ]
    }
   ],
   "source": [
    "from pyspark.ml.feature import CountVectorizer\n",
    "cv = CountVectorizer(inputCol=\"word_list\", outputCol=\"word_vec\", minDF=100)\n",
    "model = cv.fit(df_small)\n",
    "df_count_vec = model.transform(df_small)"
   ]
  },
  {
   "cell_type": "code",
   "execution_count": 33,
   "id": "960d8c2a-26d4-40fb-894a-43ae20de3d9a",
   "metadata": {},
   "outputs": [
    {
     "name": "stderr",
     "output_type": "stream",
     "text": [
      "                                                                                \r"
     ]
    }
   ],
   "source": [
    "df_counts = df_count_vec.select(\"word_vec\").rdd.map(lambda row: row['word_vec'].toArray()).reduce(lambda x,y: [x[i]+y[i] for i in range(len(y))])"
   ]
  },
  {
   "cell_type": "code",
   "execution_count": 34,
   "id": "edcf2ecd-09e1-4003-ac8a-4ab4bacfd6ac",
   "metadata": {},
   "outputs": [],
   "source": [
    "import numpy as np\n",
    "vocablist = model.vocabulary\n",
    "d = {'vocabList':vocablist,'counts':df_counts}\n",
    "df_cv = spark.createDataFrame(np.array(list(d.values())).T.tolist(),list(d.keys()))"
   ]
  },
  {
   "cell_type": "code",
   "execution_count": 36,
   "id": "faaccc4c-57ce-4a79-b758-bcc3f824586b",
   "metadata": {},
   "outputs": [
    {
     "name": "stdout",
     "output_type": "stream",
     "text": [
      "+----------+-------+\n",
      "| vocabList| counts|\n",
      "+----------+-------+\n",
      "|    people|11504.0|\n",
      "|       don| 8827.0|\n",
      "|      make| 7438.0|\n",
      "|     leave| 5203.0|\n",
      "|      base| 2264.0|\n",
      "|        gt| 5339.0|\n",
      "|     thing| 4258.0|\n",
      "|      good| 3480.0|\n",
      "|      time| 3667.0|\n",
      "|      fuck| 3399.0|\n",
      "|government| 2915.0|\n",
      "|       lib| 2985.0|\n",
      "|       bad| 2919.0|\n",
      "|      shit| 3005.0|\n",
      "|      auth| 2745.0|\n",
      "|      yeah| 2832.0|\n",
      "|     doesn| 2915.0|\n",
      "|   libleft| 3287.0|\n",
      "|     flair| 2733.0|\n",
      "|     state| 2645.0|\n",
      "|      work| 2880.0|\n",
      "|  libright| 2775.0|\n",
      "|        ve| 2703.0|\n",
      "|       man| 2192.0|\n",
      "|       isn| 2514.0|\n",
      "|   country| 2180.0|\n",
      "| authright| 2868.0|\n",
      "|      hate| 2590.0|\n",
      "|     point| 2219.0|\n",
      "|     white| 2145.0|\n",
      "|    pretty| 2225.0|\n",
      "|   fucking| 2481.0|\n",
      "|      post| 2828.0|\n",
      "|      info|   46.0|\n",
      "|  centrist| 2458.0|\n",
      "|      call| 2540.0|\n",
      "|     think| 2045.0|\n",
      "|     black| 1767.0|\n",
      "|        ll| 2315.0|\n",
      "|      didn| 1789.0|\n",
      "|      meme| 2189.0|\n",
      "|      give| 1877.0|\n",
      "|       guy| 2026.0|\n",
      "|     count|  426.0|\n",
      "|       gun| 1389.0|\n",
      "|      free| 2062.0|\n",
      "| political| 1831.0|\n",
      "|     agree| 1840.0|\n",
      "|    purple| 1162.0|\n",
      "|      mean| 1844.0|\n",
      "|      year| 1739.0|\n",
      "|       lot| 1765.0|\n",
      "|       lol| 1583.0|\n",
      "|      kill| 1569.0|\n",
      "|      nazi| 1798.0|\n",
      "|      back| 1481.0|\n",
      "|   support| 1530.0|\n",
      "|      life| 1548.0|\n",
      "| literally| 1697.0|\n",
      "|      talk| 1684.0|\n",
      "|      live| 1625.0|\n",
      "|      aren| 1529.0|\n",
      "|       pay| 1645.0|\n",
      "|     money| 1842.0|\n",
      "|       bot|  335.0|\n",
      "|     world| 1556.0|\n",
      "|      real| 1468.0|\n",
      "|      feel| 1453.0|\n",
      "|   compass| 1258.0|\n",
      "|       put| 1510.0|\n",
      "|     trump| 1397.0|\n",
      "|    change| 1415.0|\n",
      "|   comment| 1618.0|\n",
      "|  authleft| 1539.0|\n",
      "|     power| 1319.0|\n",
      "|      vote| 1546.0|\n",
      "|       tax| 1507.0|\n",
      "|  american| 1394.0|\n",
      "|     wrong| 1448.0|\n",
      "|      care| 1530.0|\n",
      "|      long| 1494.0|\n",
      "|      love| 1459.0|\n",
      "|    reason| 1294.0|\n",
      "|      find| 1905.0|\n",
      "|       win| 1594.0|\n",
      "|  quadrant| 1251.0|\n",
      "|     start| 1380.0|\n",
      "|      part| 1336.0|\n",
      "|       day| 1377.0|\n",
      "|      stop| 1328.0|\n",
      "|     party|  947.0|\n",
      "|      joke| 1528.0|\n",
      "|       big| 1260.0|\n",
      "|     right| 1276.0|\n",
      "|      true| 1397.0|\n",
      "|    person| 1312.0|\n",
      "|understand| 1161.0|\n",
      "|      word| 3002.0|\n",
      "|   society| 1272.0|\n",
      "|     reply|  227.0|\n",
      "+----------+-------+\n",
      "only showing top 100 rows\n",
      "\n"
     ]
    },
    {
     "name": "stderr",
     "output_type": "stream",
     "text": [
      "                                                                                \r"
     ]
    }
   ],
   "source": [
    "df_cv.show(100)"
   ]
  },
  {
   "cell_type": "code",
   "execution_count": 52,
   "id": "fe50e8c0-7c4e-47bc-9629-37f622045d70",
   "metadata": {},
   "outputs": [],
   "source": [
    "df_clean = df_clean.withColumn(\"government\", f.when(df_clean[\"clean_text\"].rlike(\"(?i)government\"), 1).otherwise(0))"
   ]
  },
  {
   "cell_type": "code",
   "execution_count": 53,
   "id": "c0bd28e0-d41e-4bf4-a457-892214c763ac",
   "metadata": {},
   "outputs": [],
   "source": [
    "df_clean = df_clean.withColumn(\"eco_left\", f.when(df_clean[\"clean_text\"].rlike(\"(?i)left\"), 1).otherwise(0))\n",
    "df_clean = df_clean.withColumn(\"eco_right\", f.when(df_clean[\"clean_text\"].rlike(\"(?i)right\"), 1).otherwise(0))\n",
    "df_clean = df_clean.withColumn(\"eco_centr\", f.when(df_clean[\"clean_text\"].rlike(\"(?i)centr\"), 1).otherwise(0))"
   ]
  },
  {
   "cell_type": "code",
   "execution_count": 54,
   "id": "c796a2ee-5fcc-4041-a349-d38d19ea119d",
   "metadata": {},
   "outputs": [],
   "source": [
    "df_clean = df_clean.withColumn(\"auth\", f.when(df_clean[\"clean_text\"].rlike(\"(?i)auth\"), 1).otherwise(0))\n",
    "df_clean = df_clean.withColumn(\"lib\", f.when(df_clean[\"clean_text\"].rlike(\"(?i)lib\"), 1).otherwise(0))"
   ]
  },
  {
   "cell_type": "code",
   "execution_count": 55,
   "id": "254a575a-b2fd-4082-a555-1ea04d611ebf",
   "metadata": {},
   "outputs": [],
   "source": [
    "df_clean = df_clean.drop(\"eco_dir\", \"auth_lib\")"
   ]
  },
  {
   "cell_type": "code",
   "execution_count": 56,
   "id": "c5c08b87-4fd9-4f5d-b0fa-e8c042449cb0",
   "metadata": {},
   "outputs": [
    {
     "data": {
      "text/plain": [
       "DataFrame[author: string, author_premium: int, author_flair_text: string, author_fullname: string, body: string, collapsed: int, controversiality: bigint, created_utc: bigint, gilded: bigint, no_follow: int, quarantined: int, score: bigint, send_replies: int, total_awards_received: bigint, len_body: int, date: date, month: string, score_group: string, covid: int, election: int, economics: int, finance: int, gender_equality: int, racial_equality: int, document: array<struct<annotatorType:string,begin:int,end:int,result:string,metadata:map<string,string>,embeddings:array<float>>>, lemma_body: array<struct<annotatorType:string,begin:int,end:int,result:string,metadata:map<string,string>,embeddings:array<float>>>, clean_text: string, word_list: array<string>, government: int, eco_left: int, eco_right: int, eco_centr: int, auth: int, lib: int]"
      ]
     },
     "execution_count": 56,
     "metadata": {},
     "output_type": "execute_result"
    }
   ],
   "source": [
    "df_clean.persist()"
   ]
  },
  {
   "cell_type": "code",
   "execution_count": 44,
   "id": "b753665a-e602-4a24-9dc2-484ba6f0fed2",
   "metadata": {},
   "outputs": [
    {
     "name": "stderr",
     "output_type": "stream",
     "text": [
      "[Stage 30:=======================================================>(56 + 1) / 57]\r"
     ]
    },
    {
     "name": "stdout",
     "output_type": "stream",
     "text": [
      "+----------+-------+\n",
      "|government|  count|\n",
      "+----------+-------+\n",
      "|         1| 193721|\n",
      "|         0|7555619|\n",
      "+----------+-------+\n",
      "\n"
     ]
    },
    {
     "name": "stderr",
     "output_type": "stream",
     "text": [
      "                                                                                \r"
     ]
    }
   ],
   "source": [
    "df_clean.groupBy(\"government\").count().show()"
   ]
  },
  {
   "cell_type": "code",
   "execution_count": 57,
   "id": "a58fbf97-8791-49b7-92dd-0fa0e9dcf640",
   "metadata": {},
   "outputs": [
    {
     "name": "stderr",
     "output_type": "stream",
     "text": [
      "[Stage 45:=======================================================>(56 + 1) / 57]\r"
     ]
    },
    {
     "name": "stdout",
     "output_type": "stream",
     "text": [
      "+--------+-------+\n",
      "|eco_left|  count|\n",
      "+--------+-------+\n",
      "|       1| 398868|\n",
      "|       0|7350472|\n",
      "+--------+-------+\n",
      "\n"
     ]
    },
    {
     "name": "stderr",
     "output_type": "stream",
     "text": [
      "                                                                                \r"
     ]
    }
   ],
   "source": [
    "df_clean.groupBy(\"eco_left\").count().show()"
   ]
  },
  {
   "cell_type": "code",
   "execution_count": 58,
   "id": "ce6907e0-728f-4ffd-a377-83033d8dd3e8",
   "metadata": {},
   "outputs": [
    {
     "name": "stderr",
     "output_type": "stream",
     "text": [
      "[Stage 50:=======================================================>(56 + 1) / 57]\r"
     ]
    },
    {
     "name": "stdout",
     "output_type": "stream",
     "text": [
      "+---------+-------+\n",
      "|eco_right|  count|\n",
      "+---------+-------+\n",
      "|        1| 443250|\n",
      "|        0|7306090|\n",
      "+---------+-------+\n",
      "\n"
     ]
    },
    {
     "name": "stderr",
     "output_type": "stream",
     "text": [
      "                                                                                \r"
     ]
    }
   ],
   "source": [
    "df_clean.groupBy(\"eco_right\").count().show()"
   ]
  },
  {
   "cell_type": "code",
   "execution_count": 59,
   "id": "b2d23d3d-8a9a-41fb-af98-12688bdb7f18",
   "metadata": {},
   "outputs": [
    {
     "name": "stderr",
     "output_type": "stream",
     "text": [
      "[Stage 55:======================================================> (55 + 2) / 57]\r"
     ]
    },
    {
     "name": "stdout",
     "output_type": "stream",
     "text": [
      "+---------+-------+\n",
      "|eco_centr|  count|\n",
      "+---------+-------+\n",
      "|        1| 174703|\n",
      "|        0|7574637|\n",
      "+---------+-------+\n",
      "\n"
     ]
    },
    {
     "name": "stderr",
     "output_type": "stream",
     "text": [
      "                                                                                \r"
     ]
    }
   ],
   "source": [
    "df_clean.groupBy(\"eco_centr\").count().show()"
   ]
  },
  {
   "cell_type": "code",
   "execution_count": 60,
   "id": "1c572bad-4be8-4cb7-88da-9412e2866dd4",
   "metadata": {},
   "outputs": [
    {
     "name": "stderr",
     "output_type": "stream",
     "text": [
      "[Stage 60:======================================================> (55 + 2) / 57]\r"
     ]
    },
    {
     "name": "stdout",
     "output_type": "stream",
     "text": [
      "+----+-------+\n",
      "|auth|  count|\n",
      "+----+-------+\n",
      "|   1| 508159|\n",
      "|   0|7241181|\n",
      "+----+-------+\n",
      "\n"
     ]
    },
    {
     "name": "stderr",
     "output_type": "stream",
     "text": [
      "                                                                                \r"
     ]
    }
   ],
   "source": [
    "df_clean.groupBy(\"auth\").count().show()"
   ]
  },
  {
   "cell_type": "code",
   "execution_count": 61,
   "id": "2864f0e5-b18e-4013-97b5-ac6855d6cd5a",
   "metadata": {},
   "outputs": [
    {
     "name": "stderr",
     "output_type": "stream",
     "text": [
      "[Stage 65:=======================================================>(56 + 1) / 57]\r"
     ]
    },
    {
     "name": "stdout",
     "output_type": "stream",
     "text": [
      "+---+-------+\n",
      "|lib|  count|\n",
      "+---+-------+\n",
      "|  1| 760253|\n",
      "|  0|6989087|\n",
      "+---+-------+\n",
      "\n"
     ]
    },
    {
     "name": "stderr",
     "output_type": "stream",
     "text": [
      "                                                                                \r"
     ]
    }
   ],
   "source": [
    "df_clean.groupBy(\"lib\").count().show()"
   ]
  },
  {
   "cell_type": "markdown",
   "id": "833b228a-03a7-4e93-a3f4-ef3ce5fc3226",
   "metadata": {},
   "source": [
    "## 4. Sentiment Model\n",
    "### Answer:\n",
    "Reddit posts are similar to Twitter tweets in some way, accordingly, a pretrained deep learning model `sentimentdl_use_twitter` was used here to build a pipeline for conducting sentiment analysis on the posts. "
   ]
  },
  {
   "cell_type": "code",
   "execution_count": 64,
   "id": "f0399973-c236-4aac-875a-e1059162858f",
   "metadata": {},
   "outputs": [
    {
     "name": "stdout",
     "output_type": "stream",
     "text": [
      "tfhub_use download started this may take some time.\n",
      "Approximate size to download 923.7 MB\n",
      "[ | ]tfhub_use download started this may take some time.\n",
      "Approximate size to download 923.7 MB\n",
      "[ | ]Download done! Loading the resource.\n",
      "[ / ]"
     ]
    },
    {
     "name": "stderr",
     "output_type": "stream",
     "text": [
      "2022-04-15 22:50:03.448335: I external/org_tensorflow/tensorflow/core/platform/cpu_feature_guard.cc:142] This TensorFlow binary is optimized with oneAPI Deep Neural Network Library (oneDNN) to use the following CPU instructions in performance-critical operations:  AVX2 AVX512F FMA\n",
      "To enable them in other operations, rebuild TensorFlow with the appropriate compiler flags.\n",
      "2022-04-15 22:50:03.799256: I external/org_tensorflow/tensorflow/core/platform/profile_utils/cpu_utils.cc:112] CPU Frequency: 2499995000 Hz\n"
     ]
    },
    {
     "name": "stdout",
     "output_type": "stream",
     "text": [
      "[ \\ ]"
     ]
    },
    {
     "name": "stderr",
     "output_type": "stream",
     "text": [
      "2022-04-15 22:50:08.606928: W external/org_tensorflow/tensorflow/core/framework/cpu_allocator_impl.cc:80] Allocation of 60236800 exceeds 10% of free system memory.\n",
      "2022-04-15 22:50:08.708760: W external/org_tensorflow/tensorflow/core/framework/cpu_allocator_impl.cc:80] Allocation of 60236800 exceeds 10% of free system memory.\n",
      "2022-04-15 22:50:08.754588: W external/org_tensorflow/tensorflow/core/framework/cpu_allocator_impl.cc:80] Allocation of 60236800 exceeds 10% of free system memory.\n",
      "2022-04-15 22:50:08.802319: W external/org_tensorflow/tensorflow/core/framework/cpu_allocator_impl.cc:80] Allocation of 60236800 exceeds 10% of free system memory.\n",
      "2022-04-15 22:50:08.848840: W external/org_tensorflow/tensorflow/core/framework/cpu_allocator_impl.cc:80] Allocation of 60236800 exceeds 10% of free system memory.\n"
     ]
    },
    {
     "name": "stdout",
     "output_type": "stream",
     "text": [
      "[OK!]\n",
      "sentimentdl_use_twitter download started this may take some time.\n",
      "Approximate size to download 11.4 MB\n",
      "[ | ]sentimentdl_use_twitter download started this may take some time.\n",
      "Approximate size to download 11.4 MB\n",
      "[ / ]Download done! Loading the resource.\n"
     ]
    },
    {
     "name": "stderr",
     "output_type": "stream",
     "text": [
      "                                                                                \r"
     ]
    },
    {
     "name": "stdout",
     "output_type": "stream",
     "text": [
      "[OK!]\n"
     ]
    }
   ],
   "source": [
    "MODEL_NAME='sentimentdl_use_twitter'\n",
    "documentAssembler = DocumentAssembler()\\\n",
    "    .setInputCol(\"clean_text\")\\\n",
    "    .setOutputCol(\"clean_document\")\n",
    "    \n",
    "use = UniversalSentenceEncoder.pretrained(name=\"tfhub_use\", lang=\"en\")\\\n",
    " .setInputCols([\"clean_document\"])\\\n",
    " .setOutputCol(\"sentence_embeddings\")\n",
    "\n",
    "\n",
    "sentimentdl = SentimentDLModel.pretrained(name=MODEL_NAME, lang=\"en\")\\\n",
    "    .setInputCols([\"sentence_embeddings\"])\\\n",
    "    .setOutputCol(\"sentiment\")\n",
    "\n",
    "nlpPipeline = Pipeline(\n",
    "      stages = [\n",
    "          documentAssembler,\n",
    "          use,\n",
    "          sentimentdl\n",
    "      ])"
   ]
  },
  {
   "cell_type": "code",
   "execution_count": 65,
   "id": "2391e602-45b7-4be2-aa52-a2bb4193b781",
   "metadata": {},
   "outputs": [],
   "source": [
    "empty_df = spark.createDataFrame([['']]).toDF(\"clean_text\")\n",
    "\n",
    "pipelineModel = nlpPipeline.fit(empty_df)\n",
    "\n",
    "df_sentiment = pipelineModel.transform(df_clean)"
   ]
  },
  {
   "cell_type": "code",
   "execution_count": 69,
   "id": "2d1bca7e-58ce-42bb-8a92-d864997d4ef6",
   "metadata": {},
   "outputs": [
    {
     "name": "stdout",
     "output_type": "stream",
     "text": [
      "+------------+--------------+-------------------+---------------+--------------------+---------+----------------+-----------+------+---------+-----------+-----+------------+---------------------+--------+----------+-------+------------+-----+--------+---------+-------+---------------+---------------+--------------------+--------------------+--------------------+--------------------+----------+--------+---------+---------+----+---+--------------------+--------------------+--------------------+\n",
      "|      author|author_premium|  author_flair_text|author_fullname|                body|collapsed|controversiality|created_utc|gilded|no_follow|quarantined|score|send_replies|total_awards_received|len_body|      date|  month| score_group|covid|election|economics|finance|gender_equality|racial_equality|            document|          lemma_body|          clean_text|           word_list|government|eco_left|eco_right|eco_centr|auth|lib|      clean_document| sentence_embeddings|           sentiment|\n",
      "+------------+--------------+-------------------+---------------+--------------------+---------+----------------+-----------+------+---------+-----------+-----+------------+---------------------+--------+----------+-------+------------+-----+--------+---------+-------+---------------+---------------+--------------------+--------------------+--------------------+--------------------+----------+--------+---------+---------+----+---+--------------------+--------------------+--------------------+\n",
      "|      Lakis9|             0|          left-left|    t2_3dzc316j|We're on literall...|        0|               0| 1584130541|     0|        1|          0|    1|           1|                    0|      10|2020-03-13|2020-03|low_positive|    0|       0|        0|      0|              0|              0|[[document, 0, 53...|[[token, 9, 17, l...|literally exact p...|[literally, exact...|         0|       0|        0|        0|   0|  0|[[document, 0, 28...|[[sentence_embedd...|[[category, 0, 28...|\n",
      "|  LucidMetal|             0|      lib-libcenter|       t2_3vej5|Wait cringe isn't...|        0|               1| 1585598170|     0|        1|          0|    0|           1|                    0|      14|2020-03-30|2020-03|low_positive|    0|       0|        0|      0|              0|              0|[[document, 0, 79...|[[token, 0, 3, wa...|wait cringe isn o...|[wait, cringe, is...|         0|       0|        0|        0|   0|  0|[[document, 0, 47...|[[sentence_embedd...|[[category, 0, 47...|\n",
      "|orjelmort234|             0|authright-authright|    t2_4qizezkn|The national soci...|        0|               0| 1584472377|     0|        1|          0|    2|           1|                    0|       9|2020-03-17|2020-03|low_positive|    0|       0|        0|      0|              0|              0|[[document, 0, 69...|[[token, 4, 11, n...|national socialis...|[national, social...|         0|       1|        0|        1|   0|  0|[[document, 0, 52...|[[sentence_embedd...|[[category, 0, 52...|\n",
      "+------------+--------------+-------------------+---------------+--------------------+---------+----------------+-----------+------+---------+-----------+-----+------------+---------------------+--------+----------+-------+------------+-----+--------+---------+-------+---------------+---------------+--------------------+--------------------+--------------------+--------------------+----------+--------+---------+---------+----+---+--------------------+--------------------+--------------------+\n",
      "only showing top 3 rows\n",
      "\n"
     ]
    }
   ],
   "source": [
    "df_sentiment.show(3)"
   ]
  },
  {
   "cell_type": "code",
   "execution_count": 70,
   "id": "7fb35a7a-29b3-43d6-ba3c-b1c3d7d09252",
   "metadata": {},
   "outputs": [],
   "source": [
    "df_sentiment=df_sentiment.withColumn(\"sentiment\", f.explode(f.expr(\"sentiment.result\")).alias(\"sentiment\"))"
   ]
  },
  {
   "cell_type": "code",
   "execution_count": 71,
   "id": "6be00fe8-b394-4e62-b846-f1b86fc9a1d4",
   "metadata": {},
   "outputs": [
    {
     "name": "stdout",
     "output_type": "stream",
     "text": [
      "+----------------------------------------------------------------------------------------------------------------------------------------------------------------------------------------------------------------------------------------------------------------+---------+\n",
      "|clean_text                                                                                                                                                                                                                                                      |sentiment|\n",
      "+----------------------------------------------------------------------------------------------------------------------------------------------------------------------------------------------------------------------------------------------------------------+---------+\n",
      "|literally exact point compass                                                                                                                                                                                                                                   |positive |\n",
      "|wait cringe isn opposite retarded don make sense                                                                                                                                                                                                                |negative |\n",
      "|national socialist centris certerleft italian fascist                                                                                                                                                                                                           |positive |\n",
      "|fair bit socialistic think reddit don reddit minute hear rant feminism bad male rape problem false accusation horrible today man opt pregnancy gay people treat personality annoy word reddit brocialist don lib righters unpopularopinion alt circle jerk point|negative |\n",
      "|wouldn authright ready marriage low age limit marriage depend religion marry point hinduism                                                                                                                                                                     |positive |\n",
      "+----------------------------------------------------------------------------------------------------------------------------------------------------------------------------------------------------------------------------------------------------------------+---------+\n",
      "only showing top 5 rows\n",
      "\n"
     ]
    }
   ],
   "source": [
    "df_sentiment.select(\"clean_text\", \"sentiment\").show(5, truncate=False)"
   ]
  },
  {
   "cell_type": "code",
   "execution_count": 72,
   "id": "97bbca16-a14a-4002-ae93-cffaf7970066",
   "metadata": {},
   "outputs": [
    {
     "name": "stderr",
     "output_type": "stream",
     "text": [
      "                                                                                \r"
     ]
    },
    {
     "name": "stdout",
     "output_type": "stream",
     "text": [
      "+--------------------+--------+-------+--------+\n",
      "|   author_flair_text|negative|neutral|positive|\n",
      "+--------------------+--------+-------+--------+\n",
      "|     auth-authcenter|  232500|  30307|  475966|\n",
      "| authright-authright|  234551|  31332|  355756|\n",
      "|         right-right|  232587|  29867|  356213|\n",
      "|           left-left|  241310|  31457|  366059|\n",
      "|   authleft-authleft|  155163|  21910|  236738|\n",
      "|   centrist-centrist|  309765|  41290|  503516|\n",
      "|       lib-libcenter|  333282|  44741|  542208|\n",
      "|  libright2-libright|  104847|  14605|  167727|\n",
      "|                    |      71|     15|     181|\n",
      "|centrist-grandinq...|     316|    119|    7166|\n",
      "|   libright-libright|  469588|  63979|  772199|\n",
      "|    politicalcompass|    null|   null|       3|\n",
      "|      centg-centrist|   70571|   9789|  126640|\n",
      "|     libleft-libleft|  402088|  55334|  648092|\n",
      "+--------------------+--------+-------+--------+\n",
      "\n"
     ]
    }
   ],
   "source": [
    "df_sentiment.groupBy('author_flair_text').pivot('sentiment').count().show()"
   ]
  },
  {
   "cell_type": "markdown",
   "id": "dbf4bb57-a3c2-4d6e-a446-85c29560e1af",
   "metadata": {},
   "source": [
    "## 5. Visualizations\n",
    "1. Contour Plot: It is evident that a higher positive sentiment rate will tend to be associated with a lower Nasdaq Close Price.\n",
    "2. Radar Plot: Posts from a centralist author usually have a higher positive sentiment rate. \n",
    "3. Boxenplot: A positive post tent to have a higher post score"
   ]
  },
  {
   "cell_type": "markdown",
   "id": "72919049-4102-4930-aeb7-607e4d972eb6",
   "metadata": {},
   "source": [
    "### 5.1 Contour Plot"
   ]
  },
  {
   "cell_type": "code",
   "execution_count": 149,
   "id": "116b43bc-262b-49e9-b41d-e35e4c2041bf",
   "metadata": {},
   "outputs": [],
   "source": [
    "df_sent_date = df_sentiment.groupBy(\"date\").pivot('sentiment').count().toPandas()\n",
    "\n",
    "df_sent_date.date = pd.to_datetime(df_sent_date.date)\n",
    "\n",
    "df_sent_date[\"Negative Rate\"] = df_sent_date.negative / (df_sent_date.negative + df_sent_date.neutral + df_sent_date.positive)\n",
    "df_sent_date[\"Neutral Rate\"] = df_sent_date.neutral / (df_sent_date.negative + df_sent_date.neutral + df_sent_date.positive)\n",
    "df_sent_date[\"Positive Sentiment Rate\"] = df_sent_date.positive / (df_sent_date.negative + df_sent_date.neutral + df_sent_date.positive)\n",
    "df_sent_date.drop([\"negative\", \"neutral\", \"positive\"], axis=1, inplace=True)\n",
    "df_sent_date.sort_values(by = \"date\", inplace=True)"
   ]
  },
  {
   "cell_type": "code",
   "execution_count": 151,
   "id": "a4a02272-4fdb-4d65-a6a6-ea0ad2fa992f",
   "metadata": {},
   "outputs": [],
   "source": [
    "df_nq = spark.read.csv('s3://yc910-labdata-3/nasdaq').toPandas()\n",
    "\n",
    "df_nq.columns = [\"date\", \"Nasdaq Close Price\", \"volume\"]\n",
    "df_nq.date = pd.to_datetime(df_nq.date)\n",
    "df_nq[\"Nasdaq Close Price\"] = df_nq[\"Nasdaq Close Price\"].astype(\"float\")\n",
    "df_nq.volume = df_nq.volume.astype(\"int\")"
   ]
  },
  {
   "cell_type": "code",
   "execution_count": 152,
   "id": "990fcfdb-a706-4b16-a66f-eecd3a411186",
   "metadata": {},
   "outputs": [],
   "source": [
    "df_sent_date = df_sent_date.merge(df_nq, how = \"left\", on = \"date\")"
   ]
  },
  {
   "cell_type": "code",
   "execution_count": 158,
   "id": "b7b4abe6-c68b-4b8a-b16c-b18990bae40f",
   "metadata": {},
   "outputs": [
    {
     "data": {
      "text/plain": [
       "<Figure size 864x720 with 0 Axes>"
      ]
     },
     "metadata": {},
     "output_type": "display_data"
    },
    {
     "data": {
      "image/png": "[encoded data removed]",
      "text/plain": [
       "<Figure size 432x432 with 3 Axes>"
      ]
     },
     "metadata": {},
     "output_type": "display_data"
    }
   ],
   "source": [
    "## Plot the figure\n",
    "plt.figure(figsize=(12,10)) ## Fig size\n",
    "sns.set_style(\"white\") ## Set a style\n",
    "pal = sns.color_palette(palette=\"coolwarm\", n_colors=2)[1::-1] ## Generate a color_palette\n",
    "plt.rcParams.update({'font.family':'serif'}) ## Set a font family\n",
    "\n",
    "### Make the plot\n",
    "#ax = sns.pairplot(df_sent_date[[\"pos\", \"close\", \"volume\"]], kind='reg', palette=pal[1])\n",
    "sns.jointplot(x=df_sent_date[\"Positive Sentiment Rate\"], y=df_sent_date[\"Nasdaq Close Price\"], cmap=\"Blues\", shade=True, kind='kde')\n",
    "\n",
    "### Set title, axis labels and legend\n",
    "plt.title(label = \"Figure 1. Contour Plot & Marginal Distribution of \\nNasdaq Index and Post Sentiment\", fontsize = 20, fontweight = \"bold\", y = 1.25, x = -3)\n",
    "plt.yticks(fontsize = 13)\n",
    "plt.xticks(fontsize = 13)\n",
    "plt.rc('axes', titlesize=15, labelsize=17)\n",
    "\n",
    "plt.show()"
   ]
  },
  {
   "cell_type": "markdown",
   "id": "fa083722-ee40-4df9-acd1-6d3a2d545809",
   "metadata": {},
   "source": [
    "### 5.2 Radar Plot"
   ]
  },
  {
   "cell_type": "code",
   "execution_count": 246,
   "id": "1f8201ac-f95d-4307-aff6-04cc612debac",
   "metadata": {},
   "outputs": [
    {
     "name": "stderr",
     "output_type": "stream",
     "text": [
      "                                                                                \r"
     ]
    }
   ],
   "source": [
    "df_sent_flair = df_sentiment.groupBy(\"author_flair_text\").pivot('sentiment').count().toPandas()\n",
    "df_sent_flair = df_sent_flair[df_sent_flair.positive > 10000].reset_index(drop=True)\n",
    "df_sent_flair[\"pos_rate\"] = df_sent_flair.positive / (df_sent_flair.negative + df_sent_flair.neutral + df_sent_flair.positive)"
   ]
  },
  {
   "cell_type": "code",
   "execution_count": 247,
   "id": "086ddb34-3e37-4893-8e2a-00f6fb1f6d93",
   "metadata": {},
   "outputs": [],
   "source": [
    "# Bars are sorted by the cumulative track length\n",
    "df_sent_flair_sorted = df_sent_flair.sort_values(\"pos_rate\", ascending=False).reset_index(drop=True)\n",
    "\n",
    "# Values for the x axis\n",
    "ANGLES = np.linspace(0.05, 2 * np.pi - 0.05, len(df_sent_flair_sorted), endpoint=False)\n",
    "\n",
    "# Cumulative length\n",
    "LENGTHS = df_sent_flair_sorted[\"pos_rate\"].values\n",
    "\n",
    "# Author label\n",
    "REGION = df_sent_flair_sorted[\"author_flair_text\"].values\n",
    "\n",
    "# Group of Positive\n",
    "df_sent_flair_sorted['n'] = pd.DataFrame([1 if i<=2 else 2 if i<=5 else 3 if i<=8 else 4 for i in df_sent_flair_sorted.index])\n",
    "\n",
    "TRACKS_N = df_sent_flair_sorted[\"n\"].values"
   ]
  },
  {
   "cell_type": "code",
   "execution_count": 248,
   "id": "c11f6ef4-e7f7-4a43-9c0b-e3faa5b802c0",
   "metadata": {},
   "outputs": [],
   "source": [
    "import matplotlib as mpl\n",
    "\n",
    "GREY12 = \"#1f1f1f\"\n",
    "\n",
    "# The minus glyph is not available in Bell MT\n",
    "# This disables it, and uses a hyphen\n",
    "plt.rc(\"axes\", unicode_minus=False)\n",
    "\n",
    "# Colors\n",
    "COLORS = [\"#6C5B7B\",\"#C06C84\",\"#F67280\",\"#F8B195\"]\n",
    "\n",
    "# Colormap\n",
    "cmap = mpl.colors.LinearSegmentedColormap.from_list(\"my color\", COLORS, N=256)\n",
    "\n",
    "# Normalizer\n",
    "norm = mpl.colors.Normalize(vmin=TRACKS_N.min(), vmax=TRACKS_N.max())\n",
    "\n",
    "# Normalized colors. Each number of tracks is mapped to a color in the \n",
    "# color scale 'cmap'\n",
    "COLORS = cmap(norm(TRACKS_N))"
   ]
  },
  {
   "cell_type": "code",
   "execution_count": 253,
   "id": "1c59e018-0bde-4622-bb2a-a52c143fa321",
   "metadata": {},
   "outputs": [
    {
     "data": {
      "text/plain": [
       "Text(0.5, 1.0, 'Figure 2. Radar Plot of Positive Sentiment Rate \\nfor Different Author Flair Type')"
      ]
     },
     "execution_count": 253,
     "metadata": {},
     "output_type": "execute_result"
    },
    {
     "data": {
      "image/png": "[encoded data removed]",
      "text/plain": [
       "<Figure size 648x907.2 with 1 Axes>"
      ]
     },
     "metadata": {},
     "output_type": "display_data"
    }
   ],
   "source": [
    "from textwrap import wrap\n",
    "\n",
    "fig, ax = plt.subplots(figsize=(9, 12.6), subplot_kw={\"projection\": \"polar\"})\n",
    "\n",
    "# Set background color to white, both axis and figure.\n",
    "fig.patch.set_facecolor(\"white\")\n",
    "ax.set_facecolor(\"white\")\n",
    "\n",
    "ax.set_theta_offset(1.2 * np.pi / 2)\n",
    "ax.set_ylim(bottom=0.5, top=0.7)\n",
    "\n",
    "# Add geometries to the plot\n",
    "# Add bars to represent the cumulative track lengths\n",
    "ax.bar(x = ANGLES, height=LENGTHS-0.5, bottom=0.5, \n",
    "       color=COLORS, alpha=0.9, width=0.5, zorder=11)\n",
    "\n",
    "# Add dashed vertical lines. These are just references\n",
    "ax.vlines(ANGLES, 0.5, 0.7, color=GREY12, ls=(0, (4, 4)), zorder=12)\n",
    "\n",
    "# Add labels for the regions\n",
    "REGION = [\"\\n\".join(wrap(r, 5, break_long_words=False)) for r in REGION]\n",
    "#REGION\n",
    "\n",
    "# Set the labels\n",
    "ax.set_xticks(ANGLES)\n",
    "ax.set_xticklabels(REGION, size=13);\n",
    "\n",
    "ax.set_title(label = \"Figure 2. Radar Plot of Positive Sentiment Rate \\nfor Different Author Flair Type\", fontsize = 20, fontweight = \"bold\")"
   ]
  },
  {
   "cell_type": "markdown",
   "id": "77a66a73-71c8-4d8a-a365-127b0606896e",
   "metadata": {},
   "source": [
    "### 5.3 Boxenplot"
   ]
  },
  {
   "cell_type": "code",
   "execution_count": 254,
   "id": "d7642226-2ae6-4ea0-bd9b-5e8881ebac4d",
   "metadata": {},
   "outputs": [
    {
     "name": "stderr",
     "output_type": "stream",
     "text": [
      "                                                                                \r"
     ]
    }
   ],
   "source": [
    "df_sent_score = df_sentiment.select(\"score\", \"sentiment\").sample(fraction=0.005, seed=502).toPandas()"
   ]
  },
  {
   "cell_type": "code",
   "execution_count": 255,
   "id": "a331aa58-6afd-4d5e-9e9c-501632303fce",
   "metadata": {},
   "outputs": [
    {
     "data": {
      "image/png": "[encoded data removed]",
      "text/plain": [
       "<Figure size 864x720 with 1 Axes>"
      ]
     },
     "metadata": {},
     "output_type": "display_data"
    }
   ],
   "source": [
    "plt.figure(figsize=(12,10))\n",
    "pal = [sns.color_palette(palette=\"coolwarm\", n_colors=3)[0], \n",
    "       sns.color_palette(palette=\"coolwarm\", n_colors=3)[2], \n",
    "       sns.color_palette(palette=\"coolwarm\", n_colors=3)[1]]\n",
    "sns.set(style = \"white\") ## Set a style\n",
    "plt.rcParams.update({'font.family':'serif'})\n",
    "\n",
    "sns.boxenplot(x=\"score\", y=\"sentiment\", palette=pal, scale=\"linear\", data=df_sent_score, orient=\"h\")\n",
    "\n",
    "### Set a title, axis label, legend and rotate the xticks\n",
    "plt.title(label=\"Figure 3. The Distribution of the Post Score of Different Sentiments\", fontsize = 20, fontweight = \"bold\", y = 1.01)\n",
    "plt.xlabel(xlabel = \"Post Score\", fontsize = 17, fontweight = \"bold\")\n",
    "plt.ylabel(ylabel = \"Post Sentiment\", fontsize = 17, fontweight = \"bold\")\n",
    "plt.xticks(fontsize = 15)\n",
    "plt.yticks(fontsize = 15)\n",
    "\n",
    "plt.show()"
   ]
  },
  {
   "cell_type": "markdown",
   "id": "100866d0-208f-4eaa-ad9b-e5c78a019112",
   "metadata": {},
   "source": [
    "## 6. Summary Tables\n",
    "1. After the explosion of COVID, the proportion of negative posts also started to increase. \n",
    "2. `COVID` and `Racial Equality` related posts tend to have a larger proportion of negative sentiment, while `Economics` and `Gender Equality` related posts are likely to be more positive. "
   ]
  },
  {
   "cell_type": "code",
   "execution_count": 266,
   "id": "8077228c-daa8-4467-b78e-ded629376646",
   "metadata": {},
   "outputs": [
    {
     "name": "stderr",
     "output_type": "stream",
     "text": [
      "                                                                                \r"
     ]
    }
   ],
   "source": [
    "summary_1 = df_sentiment.groupBy(\"month\").pivot('sentiment').count().toPandas()"
   ]
  },
  {
   "cell_type": "code",
   "execution_count": 267,
   "id": "a002c033-0c4a-4c17-833c-d0208162d0c3",
   "metadata": {},
   "outputs": [],
   "source": [
    "summary_1[\"Negative Rate\"] = summary_1.negative / (summary_1.negative + summary_1.neutral + summary_1.positive)\n",
    "summary_1[\"Neutral Rate\"] = summary_1.neutral / (summary_1.negative + summary_1.neutral + summary_1.positive)\n",
    "summary_1[\"Positive Sentiment Rate\"] = summary_1.positive / (summary_1.negative + summary_1.neutral + summary_1.positive)\n",
    "summary_1.sort_values(by = \"month\", inplace=True)\n",
    "summary_1.reset_index(drop = True, inplace = True)"
   ]
  },
  {
   "cell_type": "code",
   "execution_count": 268,
   "id": "8f19468e-ef2e-41c4-a999-1f9b20147851",
   "metadata": {},
   "outputs": [
    {
     "data": {
      "text/html": [
       "<div>\n",
       "<style scoped>\n",
       "    .dataframe tbody tr th:only-of-type {\n",
       "        vertical-align: middle;\n",
       "    }\n",
       "\n",
       "    .dataframe tbody tr th {\n",
       "        vertical-align: top;\n",
       "    }\n",
       "\n",
       "    .dataframe thead th {\n",
       "        text-align: right;\n",
       "    }\n",
       "</style>\n",
       "<table border=\"1\" class=\"dataframe\">\n",
       "  <thead>\n",
       "    <tr style=\"text-align: right;\">\n",
       "      <th></th>\n",
       "      <th>month</th>\n",
       "      <th>negative</th>\n",
       "      <th>neutral</th>\n",
       "      <th>positive</th>\n",
       "      <th>Negative Rate</th>\n",
       "      <th>Neutral Rate</th>\n",
       "      <th>Positive Sentiment Rate</th>\n",
       "    </tr>\n",
       "  </thead>\n",
       "  <tbody>\n",
       "    <tr>\n",
       "      <th>0</th>\n",
       "      <td>2019-07</td>\n",
       "      <td>2975</td>\n",
       "      <td>440</td>\n",
       "      <td>5597</td>\n",
       "      <td>0.330115</td>\n",
       "      <td>0.048824</td>\n",
       "      <td>0.621061</td>\n",
       "    </tr>\n",
       "    <tr>\n",
       "      <th>1</th>\n",
       "      <td>2019-08</td>\n",
       "      <td>4511</td>\n",
       "      <td>637</td>\n",
       "      <td>7821</td>\n",
       "      <td>0.347829</td>\n",
       "      <td>0.049117</td>\n",
       "      <td>0.603053</td>\n",
       "    </tr>\n",
       "    <tr>\n",
       "      <th>2</th>\n",
       "      <td>2019-09</td>\n",
       "      <td>5745</td>\n",
       "      <td>825</td>\n",
       "      <td>9875</td>\n",
       "      <td>0.349346</td>\n",
       "      <td>0.050167</td>\n",
       "      <td>0.600486</td>\n",
       "    </tr>\n",
       "    <tr>\n",
       "      <th>3</th>\n",
       "      <td>2019-10</td>\n",
       "      <td>11570</td>\n",
       "      <td>1844</td>\n",
       "      <td>21039</td>\n",
       "      <td>0.335820</td>\n",
       "      <td>0.053522</td>\n",
       "      <td>0.610658</td>\n",
       "    </tr>\n",
       "    <tr>\n",
       "      <th>4</th>\n",
       "      <td>2019-11</td>\n",
       "      <td>16838</td>\n",
       "      <td>2521</td>\n",
       "      <td>31686</td>\n",
       "      <td>0.329866</td>\n",
       "      <td>0.049388</td>\n",
       "      <td>0.620746</td>\n",
       "    </tr>\n",
       "    <tr>\n",
       "      <th>5</th>\n",
       "      <td>2019-12</td>\n",
       "      <td>29962</td>\n",
       "      <td>4754</td>\n",
       "      <td>57539</td>\n",
       "      <td>0.324774</td>\n",
       "      <td>0.051531</td>\n",
       "      <td>0.623695</td>\n",
       "    </tr>\n",
       "    <tr>\n",
       "      <th>6</th>\n",
       "      <td>2020-01</td>\n",
       "      <td>49450</td>\n",
       "      <td>7678</td>\n",
       "      <td>95539</td>\n",
       "      <td>0.323908</td>\n",
       "      <td>0.050292</td>\n",
       "      <td>0.625800</td>\n",
       "    </tr>\n",
       "    <tr>\n",
       "      <th>7</th>\n",
       "      <td>2020-02</td>\n",
       "      <td>53250</td>\n",
       "      <td>8385</td>\n",
       "      <td>104252</td>\n",
       "      <td>0.321002</td>\n",
       "      <td>0.050546</td>\n",
       "      <td>0.628452</td>\n",
       "    </tr>\n",
       "    <tr>\n",
       "      <th>8</th>\n",
       "      <td>2020-03</td>\n",
       "      <td>88029</td>\n",
       "      <td>12979</td>\n",
       "      <td>154286</td>\n",
       "      <td>0.344814</td>\n",
       "      <td>0.050839</td>\n",
       "      <td>0.604346</td>\n",
       "    </tr>\n",
       "    <tr>\n",
       "      <th>9</th>\n",
       "      <td>2020-04</td>\n",
       "      <td>130314</td>\n",
       "      <td>18905</td>\n",
       "      <td>227494</td>\n",
       "      <td>0.345924</td>\n",
       "      <td>0.050184</td>\n",
       "      <td>0.603892</td>\n",
       "    </tr>\n",
       "    <tr>\n",
       "      <th>10</th>\n",
       "      <td>2020-05</td>\n",
       "      <td>138654</td>\n",
       "      <td>19872</td>\n",
       "      <td>236374</td>\n",
       "      <td>0.351112</td>\n",
       "      <td>0.050322</td>\n",
       "      <td>0.598567</td>\n",
       "    </tr>\n",
       "    <tr>\n",
       "      <th>11</th>\n",
       "      <td>2020-06</td>\n",
       "      <td>162019</td>\n",
       "      <td>23114</td>\n",
       "      <td>276784</td>\n",
       "      <td>0.350753</td>\n",
       "      <td>0.050039</td>\n",
       "      <td>0.599207</td>\n",
       "    </tr>\n",
       "    <tr>\n",
       "      <th>12</th>\n",
       "      <td>2020-07</td>\n",
       "      <td>181637</td>\n",
       "      <td>24847</td>\n",
       "      <td>310148</td>\n",
       "      <td>0.351579</td>\n",
       "      <td>0.048094</td>\n",
       "      <td>0.600327</td>\n",
       "    </tr>\n",
       "    <tr>\n",
       "      <th>13</th>\n",
       "      <td>2020-08</td>\n",
       "      <td>193471</td>\n",
       "      <td>26714</td>\n",
       "      <td>319155</td>\n",
       "      <td>0.358718</td>\n",
       "      <td>0.049531</td>\n",
       "      <td>0.591751</td>\n",
       "    </tr>\n",
       "    <tr>\n",
       "      <th>14</th>\n",
       "      <td>2020-09</td>\n",
       "      <td>169329</td>\n",
       "      <td>23323</td>\n",
       "      <td>280514</td>\n",
       "      <td>0.357864</td>\n",
       "      <td>0.049291</td>\n",
       "      <td>0.592845</td>\n",
       "    </tr>\n",
       "    <tr>\n",
       "      <th>15</th>\n",
       "      <td>2020-10</td>\n",
       "      <td>188725</td>\n",
       "      <td>24286</td>\n",
       "      <td>303022</td>\n",
       "      <td>0.365723</td>\n",
       "      <td>0.047063</td>\n",
       "      <td>0.587214</td>\n",
       "    </tr>\n",
       "    <tr>\n",
       "      <th>16</th>\n",
       "      <td>2020-11</td>\n",
       "      <td>196873</td>\n",
       "      <td>26109</td>\n",
       "      <td>316190</td>\n",
       "      <td>0.365140</td>\n",
       "      <td>0.048424</td>\n",
       "      <td>0.586436</td>\n",
       "    </tr>\n",
       "    <tr>\n",
       "      <th>17</th>\n",
       "      <td>2020-12</td>\n",
       "      <td>186062</td>\n",
       "      <td>24157</td>\n",
       "      <td>300431</td>\n",
       "      <td>0.364363</td>\n",
       "      <td>0.047306</td>\n",
       "      <td>0.588331</td>\n",
       "    </tr>\n",
       "    <tr>\n",
       "      <th>18</th>\n",
       "      <td>2021-01</td>\n",
       "      <td>212037</td>\n",
       "      <td>27106</td>\n",
       "      <td>321656</td>\n",
       "      <td>0.378098</td>\n",
       "      <td>0.048335</td>\n",
       "      <td>0.573567</td>\n",
       "    </tr>\n",
       "    <tr>\n",
       "      <th>19</th>\n",
       "      <td>2021-02</td>\n",
       "      <td>150459</td>\n",
       "      <td>19294</td>\n",
       "      <td>233712</td>\n",
       "      <td>0.372917</td>\n",
       "      <td>0.047821</td>\n",
       "      <td>0.579262</td>\n",
       "    </tr>\n",
       "    <tr>\n",
       "      <th>20</th>\n",
       "      <td>2021-03</td>\n",
       "      <td>157980</td>\n",
       "      <td>20523</td>\n",
       "      <td>251985</td>\n",
       "      <td>0.366979</td>\n",
       "      <td>0.047674</td>\n",
       "      <td>0.585347</td>\n",
       "    </tr>\n",
       "    <tr>\n",
       "      <th>21</th>\n",
       "      <td>2021-04</td>\n",
       "      <td>152552</td>\n",
       "      <td>18954</td>\n",
       "      <td>230276</td>\n",
       "      <td>0.379688</td>\n",
       "      <td>0.047175</td>\n",
       "      <td>0.573137</td>\n",
       "    </tr>\n",
       "    <tr>\n",
       "      <th>22</th>\n",
       "      <td>2021-05</td>\n",
       "      <td>166195</td>\n",
       "      <td>19663</td>\n",
       "      <td>243809</td>\n",
       "      <td>0.386800</td>\n",
       "      <td>0.045763</td>\n",
       "      <td>0.567437</td>\n",
       "    </tr>\n",
       "    <tr>\n",
       "      <th>23</th>\n",
       "      <td>2021-06</td>\n",
       "      <td>138002</td>\n",
       "      <td>17816</td>\n",
       "      <td>219279</td>\n",
       "      <td>0.367910</td>\n",
       "      <td>0.047497</td>\n",
       "      <td>0.584593</td>\n",
       "    </tr>\n",
       "  </tbody>\n",
       "</table>\n",
       "</div>"
      ],
      "text/plain": [
       "      month  negative  neutral  positive  Negative Rate  Neutral Rate  \\\n",
       "0   2019-07      2975      440      5597       0.330115      0.048824   \n",
       "1   2019-08      4511      637      7821       0.347829      0.049117   \n",
       "2   2019-09      5745      825      9875       0.349346      0.050167   \n",
       "3   2019-10     11570     1844     21039       0.335820      0.053522   \n",
       "4   2019-11     16838     2521     31686       0.329866      0.049388   \n",
       "5   2019-12     29962     4754     57539       0.324774      0.051531   \n",
       "6   2020-01     49450     7678     95539       0.323908      0.050292   \n",
       "7   2020-02     53250     8385    104252       0.321002      0.050546   \n",
       "8   2020-03     88029    12979    154286       0.344814      0.050839   \n",
       "9   2020-04    130314    18905    227494       0.345924      0.050184   \n",
       "10  2020-05    138654    19872    236374       0.351112      0.050322   \n",
       "11  2020-06    162019    23114    276784       0.350753      0.050039   \n",
       "12  2020-07    181637    24847    310148       0.351579      0.048094   \n",
       "13  2020-08    193471    26714    319155       0.358718      0.049531   \n",
       "14  2020-09    169329    23323    280514       0.357864      0.049291   \n",
       "15  2020-10    188725    24286    303022       0.365723      0.047063   \n",
       "16  2020-11    196873    26109    316190       0.365140      0.048424   \n",
       "17  2020-12    186062    24157    300431       0.364363      0.047306   \n",
       "18  2021-01    212037    27106    321656       0.378098      0.048335   \n",
       "19  2021-02    150459    19294    233712       0.372917      0.047821   \n",
       "20  2021-03    157980    20523    251985       0.366979      0.047674   \n",
       "21  2021-04    152552    18954    230276       0.379688      0.047175   \n",
       "22  2021-05    166195    19663    243809       0.386800      0.045763   \n",
       "23  2021-06    138002    17816    219279       0.367910      0.047497   \n",
       "\n",
       "    Positive Sentiment Rate  \n",
       "0                  0.621061  \n",
       "1                  0.603053  \n",
       "2                  0.600486  \n",
       "3                  0.610658  \n",
       "4                  0.620746  \n",
       "5                  0.623695  \n",
       "6                  0.625800  \n",
       "7                  0.628452  \n",
       "8                  0.604346  \n",
       "9                  0.603892  \n",
       "10                 0.598567  \n",
       "11                 0.599207  \n",
       "12                 0.600327  \n",
       "13                 0.591751  \n",
       "14                 0.592845  \n",
       "15                 0.587214  \n",
       "16                 0.586436  \n",
       "17                 0.588331  \n",
       "18                 0.573567  \n",
       "19                 0.579262  \n",
       "20                 0.585347  \n",
       "21                 0.573137  \n",
       "22                 0.567437  \n",
       "23                 0.584593  "
      ]
     },
     "execution_count": 268,
     "metadata": {},
     "output_type": "execute_result"
    }
   ],
   "source": [
    "summary_1"
   ]
  },
  {
   "cell_type": "code",
   "execution_count": 270,
   "id": "9f4e819f-23ef-4bab-a4d4-0ab2aef44217",
   "metadata": {},
   "outputs": [
    {
     "name": "stderr",
     "output_type": "stream",
     "text": [
      "                                                                                \r"
     ]
    }
   ],
   "source": [
    "summary_2 = df_sentiment.groupBy(\"sentiment\").agg(f.sum(\"covid\"), \n",
    "                                                  f.sum(\"election\"), \n",
    "                                                  f.sum(\"economics\"), \n",
    "                                                  f.sum(\"finance\"), \n",
    "                                                  f.sum(\"gender_equality\"),\n",
    "                                                 f.sum(\"racial_equality\")).toPandas()"
   ]
  },
  {
   "cell_type": "code",
   "execution_count": 272,
   "id": "ea5ee31d-aab0-4275-bad1-528e90b76e92",
   "metadata": {},
   "outputs": [],
   "source": [
    "summary_2 = summary_2.rename(columns = {\"sum(covid)\":\"covid\",\n",
    "                                        \"sum(election)\":\"election\", \n",
    "                                        \"sum(economics)\":\"economics\", \n",
    "                                        \"sum(finance)\":\"finance\", \n",
    "                                        \"sum(gender_equality)\":\"gender_equality\",\n",
    "                                        \"sum(racial_equality)\":\"racial_equality\"})"
   ]
  },
  {
   "cell_type": "code",
   "execution_count": 273,
   "id": "019ebc2b-3b03-41dc-bd62-158cb7f0d527",
   "metadata": {},
   "outputs": [
    {
     "data": {
      "text/html": [
       "<div>\n",
       "<style scoped>\n",
       "    .dataframe tbody tr th:only-of-type {\n",
       "        vertical-align: middle;\n",
       "    }\n",
       "\n",
       "    .dataframe tbody tr th {\n",
       "        vertical-align: top;\n",
       "    }\n",
       "\n",
       "    .dataframe thead th {\n",
       "        text-align: right;\n",
       "    }\n",
       "</style>\n",
       "<table border=\"1\" class=\"dataframe\">\n",
       "  <thead>\n",
       "    <tr style=\"text-align: right;\">\n",
       "      <th></th>\n",
       "      <th>sentiment</th>\n",
       "      <th>covid</th>\n",
       "      <th>election</th>\n",
       "      <th>economics</th>\n",
       "      <th>finance</th>\n",
       "      <th>gender_equality</th>\n",
       "      <th>racial_equality</th>\n",
       "    </tr>\n",
       "  </thead>\n",
       "  <tbody>\n",
       "    <tr>\n",
       "      <th>0</th>\n",
       "      <td>positive</td>\n",
       "      <td>12548</td>\n",
       "      <td>20562</td>\n",
       "      <td>62773</td>\n",
       "      <td>13928</td>\n",
       "      <td>43667</td>\n",
       "      <td>98744</td>\n",
       "    </tr>\n",
       "    <tr>\n",
       "      <th>1</th>\n",
       "      <td>neutral</td>\n",
       "      <td>1813</td>\n",
       "      <td>2516</td>\n",
       "      <td>4979</td>\n",
       "      <td>1517</td>\n",
       "      <td>2021</td>\n",
       "      <td>15071</td>\n",
       "    </tr>\n",
       "    <tr>\n",
       "      <th>2</th>\n",
       "      <td>negative</td>\n",
       "      <td>20020</td>\n",
       "      <td>21120</td>\n",
       "      <td>52316</td>\n",
       "      <td>13579</td>\n",
       "      <td>14229</td>\n",
       "      <td>157961</td>\n",
       "    </tr>\n",
       "  </tbody>\n",
       "</table>\n",
       "</div>"
      ],
      "text/plain": [
       "  sentiment  covid  election  economics  finance  gender_equality  \\\n",
       "0  positive  12548     20562      62773    13928            43667   \n",
       "1   neutral   1813      2516       4979     1517             2021   \n",
       "2  negative  20020     21120      52316    13579            14229   \n",
       "\n",
       "   racial_equality  \n",
       "0            98744  \n",
       "1            15071  \n",
       "2           157961  "
      ]
     },
     "execution_count": 273,
     "metadata": {},
     "output_type": "execute_result"
    }
   ],
   "source": [
    "summary_2"
   ]
  },
  {
   "cell_type": "markdown",
   "id": "59191a6e-e613-411c-ba12-7a2f0709e711",
   "metadata": {},
   "source": [
    "## 7. Save the Data\n",
    "### Answer:\n",
    "The data containing clean text, sentiment and new dummy variables are saved to S3 bucket."
   ]
  },
  {
   "cell_type": "code",
   "execution_count": 73,
   "id": "ad27f532-00b2-4f03-b43b-f0e312eca75a",
   "metadata": {},
   "outputs": [
    {
     "name": "stderr",
     "output_type": "stream",
     "text": [
      "                                                                                \r"
     ]
    }
   ],
   "source": [
    "df_sentiment.write.parquet(\"s3://yc910-labdata-3/reddit_nlp\", mode=\"overwrite\")"
   ]
  },
  {
   "cell_type": "code",
   "execution_count": 274,
   "id": "e7b1b667-7d69-4d64-99c9-3092695cc194",
   "metadata": {},
   "outputs": [],
   "source": [
    "spark.stop()"
   ]
  },
  {
   "cell_type": "code",
   "execution_count": null,
   "id": "11dc56de-e905-4498-aafd-7d71242a46a9",
   "metadata": {},
   "outputs": [],
   "source": []
  }
 ],
 "metadata": {
  "kernelspec": {
   "display_name": "Python 3",
   "language": "python",
   "name": "python3"
  },
  "language_info": {
   "codemirror_mode": {
    "name": "ipython",
    "version": 3
   },
   "file_extension": ".py",
   "mimetype": "text/x-python",
   "name": "python",
   "nbconvert_exporter": "python",
   "pygments_lexer": "ipython3",
   "version": "3.8.2"
  }
 },
 "nbformat": 4,
 "nbformat_minor": 5
}
