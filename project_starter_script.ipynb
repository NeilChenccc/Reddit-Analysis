{
 "cells": [
  {
   "cell_type": "markdown",
   "id": "45e24818-874c-4a1c-bbec-31995beead19",
   "metadata": {},
   "source": [
    "# Reddit Project Starter Script"
   ]
  },
  {
   "cell_type": "markdown",
   "id": "31472461-d990-4b83-a1ee-79e9f41f532e",
   "metadata": {},
   "source": [
    "### Putting data into your own bucket"
   ]
  },
  {
   "cell_type": "markdown",
   "id": "ef68cb6d-6297-4fe7-9c2f-29370fa7a5e5",
   "metadata": {},
   "source": [
    "In the following cell you can view the list of subreddits:"
   ]
  },
  {
   "cell_type": "code",
   "execution_count": 1,
   "id": "64ffa23c-dcb7-400f-9570-81d2118e7eec",
   "metadata": {},
   "outputs": [],
   "source": [
    "#!aws s3 ls s3://bigdatateaching/reddit/subreddits/"
   ]
  },
  {
   "cell_type": "markdown",
   "id": "126e3bc1-53f5-4e01-90ba-f0206e1693e8",
   "metadata": {},
   "source": [
    "In the following cell, you will copy your assigned subreddit from the central teaching bucket to your own persaonl bucket. This cell MUST only be executed once per account!!"
   ]
  },
  {
   "cell_type": "code",
   "execution_count": 2,
   "id": "3606e95b-18ea-4075-abcc-1dce0b07e203",
   "metadata": {},
   "outputs": [],
   "source": [
    "#!aws s3 cp s3://bigdatateaching/reddit/subreddits/PoliticalCompassMemes/ s3://yc910-labdata-2/reddit --recursive"
   ]
  },
  {
   "cell_type": "markdown",
   "id": "598eb41d-197c-4f0d-b207-a229e211d97c",
   "metadata": {},
   "source": [
    "### Reading your entire dataset"
   ]
  },
  {
   "cell_type": "code",
   "execution_count": 3,
   "id": "b9dc1d0a-0264-4efe-86d4-3d0756c99c9f",
   "metadata": {},
   "outputs": [],
   "source": [
    "import findspark\n",
    "findspark.init()"
   ]
  },
  {
   "cell_type": "code",
   "execution_count": 4,
   "id": "9db156f0-e1b0-4dad-99b2-a0a247af9e68",
   "metadata": {},
   "outputs": [],
   "source": [
    "import pyspark.sql.functions as f\n",
    "from pyspark.sql.functions import col, lit\n",
    "from pyspark.sql import SparkSession"
   ]
  },
  {
   "cell_type": "code",
   "execution_count": 5,
   "id": "3a82ccb4-e218-4821-a2fd-784909105238",
   "metadata": {},
   "outputs": [
    {
     "name": "stderr",
     "output_type": "stream",
     "text": [
      "Setting default log level to \"WARN\".\n",
      "To adjust logging level use sc.setLogLevel(newLevel). For SparkR, use setLogLevel(newLevel).\n",
      "22/04/02 22:05:20 WARN Client: Neither spark.yarn.jars nor spark.yarn.archive is set, falling back to uploading libraries under SPARK_HOME.\n",
      "22/04/02 22:05:31 WARN YarnSchedulerBackend$YarnSchedulerEndpoint: Attempted to request executors before the AM has registered!\n"
     ]
    }
   ],
   "source": [
    "spark = SparkSession.builder.appName(\"reddit\").getOrCreate()"
   ]
  },
  {
   "cell_type": "markdown",
   "id": "a6564496-f89d-4cd0-8920-1b9ab3448ea1",
   "metadata": {},
   "source": [
    "Make sure your SparkSession is active:"
   ]
  },
  {
   "cell_type": "code",
   "execution_count": 6,
   "id": "705a305d-7dbb-4c08-a7f7-0fee39840510",
   "metadata": {},
   "outputs": [
    {
     "data": {
      "text/html": [
       "\n",
       "            <div>\n",
       "                <p><b>SparkSession - in-memory</b></p>\n",
       "                \n",
       "        <div>\n",
       "            <p><b>SparkContext</b></p>\n",
       "\n",
       "            <p><a href=\"http://ip-172-31-37-172.ec2.internal:4040\">Spark UI</a></p>\n",
       "\n",
       "            <dl>\n",
       "              <dt>Version</dt>\n",
       "                <dd><code>v3.0.0-amzn-0</code></dd>\n",
       "              <dt>Master</dt>\n",
       "                <dd><code>yarn</code></dd>\n",
       "              <dt>AppName</dt>\n",
       "                <dd><code>reddit</code></dd>\n",
       "            </dl>\n",
       "        </div>\n",
       "        \n",
       "            </div>\n",
       "        "
      ],
      "text/plain": [
       "<pyspark.sql.session.SparkSession at 0x7fa0d4a02650>"
      ]
     },
     "execution_count": 6,
     "metadata": {},
     "output_type": "execute_result"
    }
   ],
   "source": [
    "spark"
   ]
  },
  {
   "cell_type": "code",
   "execution_count": 7,
   "id": "edcfea00-1b0c-4c76-94c8-672551d39aba",
   "metadata": {},
   "outputs": [
    {
     "name": "stderr",
     "output_type": "stream",
     "text": [
      "                                                                                \r"
     ]
    }
   ],
   "source": [
    "df_full = spark.read.parquet('s3://yc910-labdata-2/reddit')"
   ]
  },
  {
   "cell_type": "code",
   "execution_count": 8,
   "id": "5cd34f43-88b7-4433-b687-b074a3995c58",
   "metadata": {},
   "outputs": [
    {
     "name": "stderr",
     "output_type": "stream",
     "text": [
      "22/04/02 22:05:42 WARN package: Truncated the string representation of a plan since it was too large. This behavior can be adjusted by setting 'spark.sql.debug.maxToStringFields'.\n",
      "                                                                                \r"
     ]
    },
    {
     "data": {
      "text/plain": [
       "12904319"
      ]
     },
     "execution_count": 8,
     "metadata": {},
     "output_type": "execute_result"
    }
   ],
   "source": [
    "df_full.count()"
   ]
  },
  {
   "cell_type": "markdown",
   "id": "4674dd19-4610-43bf-9add-be638eea625f",
   "metadata": {},
   "source": [
    "### Reading one month worth of data"
   ]
  },
  {
   "cell_type": "code",
   "execution_count": 9,
   "id": "ef20a13c-78f1-4e49-b1a2-4e79e885cb19",
   "metadata": {},
   "outputs": [],
   "source": [
    "#!aws s3 ls s3://yc910-labdata-2/reddit/"
   ]
  },
  {
   "cell_type": "code",
   "execution_count": 10,
   "id": "c1ea9584-1436-4b0d-a9ef-4d33cb0b41bb",
   "metadata": {},
   "outputs": [],
   "source": [
    "df = spark.read.parquet('s3://yc910-labdata-2/reddit/ym_partition=202106')"
   ]
  },
  {
   "cell_type": "code",
   "execution_count": 11,
   "id": "d582b200-8ce3-44a5-ae39-cceb9af83c46",
   "metadata": {},
   "outputs": [
    {
     "name": "stderr",
     "output_type": "stream",
     "text": [
      "                                                                                \r"
     ]
    },
    {
     "data": {
      "text/plain": [
       "608075"
      ]
     },
     "execution_count": 11,
     "metadata": {},
     "output_type": "execute_result"
    }
   ],
   "source": [
    "df.count()"
   ]
  },
  {
   "cell_type": "markdown",
   "id": "add5d9f8-b75b-45e4-a290-77afb2762332",
   "metadata": {},
   "source": [
    "### Developing on a small piece of your data"
   ]
  },
  {
   "cell_type": "code",
   "execution_count": 12,
   "id": "19a87477-c0d5-4563-a82a-4f0e7b57c0ba",
   "metadata": {},
   "outputs": [],
   "source": [
    "df_small = df.limit(10000)"
   ]
  },
  {
   "cell_type": "code",
   "execution_count": 13,
   "id": "cf34c1bc-9c61-4423-b1ee-efa2cc19a1d3",
   "metadata": {},
   "outputs": [
    {
     "data": {
      "text/plain": [
       "10000"
      ]
     },
     "execution_count": 13,
     "metadata": {},
     "output_type": "execute_result"
    }
   ],
   "source": [
    "df_small.count()"
   ]
  },
  {
   "cell_type": "code",
   "execution_count": 14,
   "id": "e9d987ed-eeb6-4f6d-aa84-84d034682d48",
   "metadata": {},
   "outputs": [
    {
     "name": "stderr",
     "output_type": "stream",
     "text": [
      "[Stage 11:=====================================================>  (23 + 1) / 24]\r"
     ]
    },
    {
     "name": "stdout",
     "output_type": "stream",
     "text": [
      "+-------------+----------------+-----------------+------------------+-----------------------------+----------------------+---------------------+------------------------+--------------------+-----------------------+-----------------+---------------+--------------------+--------------+--------+--------------------+--------+------------+---------+-------------------------------+----------------+------------+----------------+-----------+-------------+------+------+--------+-------+------------+---------+------+---------+----------+--------------------+-----------+--------------+------------+-----+------------+--------+------------+-----------------------+--------------+----------------+---------------------+--------------+--------------+--------+--------------+\n",
      "|all_awardings|associated_award|           author|author_created_utc|author_flair_background_color|author_flair_css_class|author_flair_richtext|author_flair_template_id|   author_flair_text|author_flair_text_color|author_flair_type|author_fullname|author_patreon_flair|author_premium|awarders|                body|can_gild|can_mod_post|collapsed|collapsed_because_crowd_control|collapsed_reason|comment_type|controversiality|created_utc|distinguished|edited|gilded|gildings|     id|is_submitter|  link_id|locked|no_follow| parent_id|           permalink|quarantined|removal_reason|retrieved_on|score|send_replies|stickied|subreddit_id|subreddit_name_prefixed|subreddit_type|top_awarded_type|total_awards_received|treatment_tags|author_cakeday|editable|media_metadata|\n",
      "+-------------+----------------+-----------------+------------------+-----------------------------+----------------------+---------------------+------------------------+--------------------+-----------------------+-----------------+---------------+--------------------+--------------+--------+--------------------+--------+------------+---------+-------------------------------+----------------+------------+----------------+-----------+-------------+------+------+--------+-------+------------+---------+------+---------+----------+--------------------+-----------+--------------+------------+-----+------------+--------+------------+-----------------------+--------------+----------------+---------------------+--------------+--------------+--------+--------------+\n",
      "|           []|            None|      tablekitten|     1.569652211E9|                  transparent|                  null| [{'a': ':auth:', ...|    23ccb4fe-e950-11e...| :auth: - AuthCenter|                   dark|         richtext|    t2_4olgqxcw|               false|         false|    <NA>|               based|    true|       false|    false|                           null|            null|        null|               0| 1624203344|         None|  null|     0|      {}|h2fr8pl|       false|t3_o3xou9| false|     true|t1_h2esgbz|/r/PoliticalCompa...|      false|          null|        null|    3|        true|   false|    t5_3ipa1|                   null|        public|            null|                    0|            []|          null|    null|           nan|\n",
      "|           []|            None|       Rafwaffe39|     1.575218013E9|                  transparent|                  null| [{'a': ':lib:', '...|    392244cc-e950-11e...|   :lib: - LibCenter|                   dark|         richtext|    t2_54tsvmpc|               false|         false|    <NA>|No my friend for ...|    true|       false|    false|                           null|            null|        null|               0| 1624249084|         None|  null|     0|      {}|h2i5j8i|       false|t3_o4ht6n| false|    false|t1_h2hhv6z|/r/PoliticalCompa...|      false|          null|        null|    5|        true|   false|    t5_3ipa1|                   null|        public|            null|                    0|            []|          null|    null|           nan|\n",
      "|           []|            None|trancasjefferson3|     1.623854909E9|                  transparent|                  null| [{'a': ':authrigh...|    3bd134fa-e94e-11e...|:authright: - Aut...|                   dark|         richtext|    t2_crdjs514|               false|         false|    <NA>|This is at leat t...|    true|       false|    false|                           null|            null|        null|               0| 1624243962|         None|  null|     0|      {}|h2hx48h|       false|t3_o4ht6n| false|    false|t1_h2hf9wc|/r/PoliticalCompa...|      false|          null|        null|   10|        true|   false|    t5_3ipa1|                   null|        public|            null|                    0|            []|          null|    null|           nan|\n",
      "|           []|            None|        mega-oood|     1.543853917E9|                  transparent|                  null| [{'a': ':libright...|    4b819f98-e94e-11e...|:libright: - LibR...|                   dark|         richtext|    t2_2pro5ls8|               false|         false|    <NA>|Lol what a fuckin...|    true|       false|    false|                           null|            null|        null|               0| 1624241683|         None|  null|     0|      {}|h2hspw9|       false|t3_o4kp4m| false|    false| t3_o4kp4m|/r/PoliticalCompa...|      false|          null|        null|   14|        true|   false|    t5_3ipa1|                   null|        public|            null|                    0|            []|          null|    null|           nan|\n",
      "|           []|            None|          DFNIckS|     1.499112666E9|                  transparent|                  null| [{'a': ':centrist...|    349ce882-e94e-11e...|:centrist: - Cent...|                   dark|         richtext|     t2_5xra3lq|               false|         false|    <NA>|I don't think the...|    true|       false|    false|                           null|            null|        null|               0| 1624241570|         None|  null|     0|      {}|h2hsie7|       false|t3_o4bsny| false|     true|t1_h2hf69x|/r/PoliticalCompa...|      false|          null|        null|    2|        true|   false|    t5_3ipa1|                   null|        public|            null|                    0|            []|          null|    null|           nan|\n",
      "+-------------+----------------+-----------------+------------------+-----------------------------+----------------------+---------------------+------------------------+--------------------+-----------------------+-----------------+---------------+--------------------+--------------+--------+--------------------+--------+------------+---------+-------------------------------+----------------+------------+----------------+-----------+-------------+------+------+--------+-------+------------+---------+------+---------+----------+--------------------+-----------+--------------+------------+-----+------------+--------+------------+-----------------------+--------------+----------------+---------------------+--------------+--------------+--------+--------------+\n",
      "only showing top 5 rows\n",
      "\n"
     ]
    },
    {
     "name": "stderr",
     "output_type": "stream",
     "text": [
      "                                                                                \r"
     ]
    }
   ],
   "source": [
    "df_small.show(5)"
   ]
  },
  {
   "cell_type": "code",
   "execution_count": 51,
   "id": "b19aadef-2644-4693-abb2-be4edf355a9b",
   "metadata": {},
   "outputs": [],
   "source": [
    "spark.stop()"
   ]
  },
  {
   "cell_type": "code",
   "execution_count": null,
   "id": "a0b2d852-e5c6-40f1-aeff-26641d1f6473",
   "metadata": {},
   "outputs": [],
   "source": []
  }
 ],
 "metadata": {
  "kernelspec": {
   "display_name": "Python 3 (ipykernel)",
   "language": "python",
   "name": "python3"
  },
  "language_info": {
   "codemirror_mode": {
    "name": "ipython",
    "version": 3
   },
   "file_extension": ".py",
   "mimetype": "text/x-python",
   "name": "python",
   "nbconvert_exporter": "python",
   "pygments_lexer": "ipython3",
   "version": "3.7.11"
  }
 },
 "nbformat": 4,
 "nbformat_minor": 5
}
